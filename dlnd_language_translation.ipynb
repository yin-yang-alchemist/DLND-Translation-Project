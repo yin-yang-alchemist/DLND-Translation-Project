{
 "cells": [
  {
   "cell_type": "markdown",
   "metadata": {
    "collapsed": true
   },
   "source": [
    "# Language Translation\n",
    "In this project, you’re going to take a peek into the realm of neural network machine translation.  You’ll be training a sequence to sequence model on a dataset of English and French sentences that can translate new sentences from English to French.\n",
    "## Get the Data\n",
    "Since translating the whole language of English to French will take lots of time to train, we have provided you with a small portion of the English corpus."
   ]
  },
  {
   "cell_type": "code",
   "execution_count": 1,
   "metadata": {
    "collapsed": true
   },
   "outputs": [],
   "source": [
    "\"\"\"\n",
    "DON'T MODIFY ANYTHING IN THIS CELL\n",
    "\"\"\"\n",
    "import helper\n",
    "import problem_unittests as tests\n",
    "\n",
    "source_path = 'data/small_vocab_en'\n",
    "target_path = 'data/small_vocab_fr'\n",
    "source_text = helper.load_data(source_path)\n",
    "target_text = helper.load_data(target_path)"
   ]
  },
  {
   "cell_type": "markdown",
   "metadata": {},
   "source": [
    "## Explore the Data\n",
    "Play around with view_sentence_range to view different parts of the data."
   ]
  },
  {
   "cell_type": "code",
   "execution_count": 2,
   "metadata": {},
   "outputs": [
    {
     "name": "stdout",
     "output_type": "stream",
     "text": [
      "Dataset Stats\n",
      "Roughly the number of unique words: 227\n",
      "Number of sentences: 137861\n",
      "Average number of words in a sentence: 13.225277634719028\n",
      "\n",
      "English sentences 0 to 10:\n",
      "new jersey is sometimes quiet during autumn , and it is snowy in april .\n",
      "the united states is usually chilly during july , and it is usually freezing in november .\n",
      "california is usually quiet during march , and it is usually hot in june .\n",
      "the united states is sometimes mild during june , and it is cold in september .\n",
      "your least liked fruit is the grape , but my least liked is the apple .\n",
      "his favorite fruit is the orange , but my favorite is the grape .\n",
      "paris is relaxing during december , but it is usually chilly in july .\n",
      "new jersey is busy during spring , and it is never hot in march .\n",
      "our least liked fruit is the lemon , but my least liked is the grape .\n",
      "the united states is sometimes busy during january , and it is sometimes warm in november .\n",
      "\n",
      "French sentences 0 to 10:\n",
      "new jersey est parfois calme pendant l' automne , et il est neigeux en avril .\n",
      "les états-unis est généralement froid en juillet , et il gèle habituellement en novembre .\n",
      "california est généralement calme en mars , et il est généralement chaud en juin .\n",
      "les états-unis est parfois légère en juin , et il fait froid en septembre .\n",
      "votre moins aimé fruit est le raisin , mais mon moins aimé est la pomme .\n",
      "son fruit préféré est l'orange , mais mon préféré est le raisin .\n",
      "paris est relaxant en décembre , mais il est généralement froid en juillet .\n",
      "new jersey est occupé au printemps , et il est jamais chaude en mars .\n",
      "notre fruit est moins aimé le citron , mais mon moins aimé est le raisin .\n",
      "les états-unis est parfois occupé en janvier , et il est parfois chaud en novembre .\n"
     ]
    }
   ],
   "source": [
    "view_sentence_range = (0, 10)\n",
    "\n",
    "\"\"\"\n",
    "DON'T MODIFY ANYTHING IN THIS CELL\n",
    "\"\"\"\n",
    "import numpy as np\n",
    "\n",
    "print('Dataset Stats')\n",
    "print('Roughly the number of unique words: {}'.format(len({word: None for word in source_text.split()})))\n",
    "\n",
    "sentences = source_text.split('\\n')\n",
    "word_counts = [len(sentence.split()) for sentence in sentences]\n",
    "print('Number of sentences: {}'.format(len(sentences)))\n",
    "print('Average number of words in a sentence: {}'.format(np.average(word_counts)))\n",
    "\n",
    "print()\n",
    "print('English sentences {} to {}:'.format(*view_sentence_range))\n",
    "print('\\n'.join(source_text.split('\\n')[view_sentence_range[0]:view_sentence_range[1]]))\n",
    "print()\n",
    "print('French sentences {} to {}:'.format(*view_sentence_range))\n",
    "print('\\n'.join(target_text.split('\\n')[view_sentence_range[0]:view_sentence_range[1]]))"
   ]
  },
  {
   "cell_type": "markdown",
   "metadata": {},
   "source": [
    "## Implement Preprocessing Function\n",
    "### Text to Word Ids\n",
    "As you did with other RNNs, you must turn the text into a number so the computer can understand it. In the function `text_to_ids()`, you'll turn `source_text` and `target_text` from words to ids.  However, you need to add the `<EOS>` word id at the end of `target_text`.  This will help the neural network predict when the sentence should end.\n",
    "\n",
    "You can get the `<EOS>` word id by doing:\n",
    "```python\n",
    "target_vocab_to_int['<EOS>']\n",
    "```\n",
    "You can get other word ids using `source_vocab_to_int` and `target_vocab_to_int`."
   ]
  },
  {
   "cell_type": "code",
   "execution_count": 3,
   "metadata": {},
   "outputs": [
    {
     "name": "stdout",
     "output_type": "stream",
     "text": [
      "Tests Passed\n"
     ]
    }
   ],
   "source": [
    "def text_to_ids(source_text, target_text, source_vocab_to_int, target_vocab_to_int):\n",
    "    \"\"\"\n",
    "    Convert source and target text to proper word ids\n",
    "    :param source_text: String that contains all the source text.\n",
    "    :param target_text: String that contains all the target text.\n",
    "    :param source_vocab_to_int: Dictionary to go from the source words to an id\n",
    "    :param target_vocab_to_int: Dictionary to go from the target words to an id\n",
    "    :return: A tuple of lists (source_id_text, target_id_text)\n",
    "    \"\"\"\n",
    "    # TODO: Implement Function\n",
    "    source_sentences = [sentence.split() for sentence in source_text.splitlines()]\n",
    "    source_id_text = [[source_vocab_to_int[word] for word in words] for words in source_sentences]\n",
    "    target_sentences = [sentence.split() + ['<EOS>'] for sentence in target_text.splitlines()]\n",
    "    target_id_text = [[target_vocab_to_int[word] for word in words] for words in target_sentences]\n",
    "    return source_id_text, target_id_text\n",
    "\n",
    "\"\"\"\n",
    "DON'T MODIFY ANYTHING IN THIS CELL THAT IS BELOW THIS LINE\n",
    "\"\"\"\n",
    "tests.test_text_to_ids(text_to_ids)"
   ]
  },
  {
   "cell_type": "markdown",
   "metadata": {},
   "source": [
    "### Preprocess all the data and save it\n",
    "Running the code cell below will preprocess all the data and save it to file."
   ]
  },
  {
   "cell_type": "code",
   "execution_count": 4,
   "metadata": {
    "collapsed": true
   },
   "outputs": [],
   "source": [
    "\"\"\"\n",
    "DON'T MODIFY ANYTHING IN THIS CELL\n",
    "\"\"\"\n",
    "helper.preprocess_and_save_data(source_path, target_path, text_to_ids)"
   ]
  },
  {
   "cell_type": "markdown",
   "metadata": {},
   "source": [
    "# Check Point\n",
    "This is your first checkpoint. If you ever decide to come back to this notebook or have to restart the notebook, you can start from here. The preprocessed data has been saved to disk."
   ]
  },
  {
   "cell_type": "code",
   "execution_count": 5,
   "metadata": {
    "collapsed": true
   },
   "outputs": [],
   "source": [
    "\"\"\"\n",
    "DON'T MODIFY ANYTHING IN THIS CELL\n",
    "\"\"\"\n",
    "import numpy as np\n",
    "import helper\n",
    "import problem_unittests as tests\n",
    "\n",
    "(source_int_text, target_int_text), (source_vocab_to_int, target_vocab_to_int), _ = helper.load_preprocess()"
   ]
  },
  {
   "cell_type": "markdown",
   "metadata": {},
   "source": [
    "### Check the Version of TensorFlow and Access to GPU\n",
    "This will check to make sure you have the correct version of TensorFlow and access to a GPU"
   ]
  },
  {
   "cell_type": "code",
   "execution_count": 6,
   "metadata": {},
   "outputs": [
    {
     "name": "stdout",
     "output_type": "stream",
     "text": [
      "TensorFlow Version: 1.2.1\n",
      "Default GPU Device: /gpu:0\n"
     ]
    }
   ],
   "source": [
    "\"\"\"\n",
    "DON'T MODIFY ANYTHING IN THIS CELL\n",
    "\"\"\"\n",
    "from distutils.version import LooseVersion\n",
    "import warnings\n",
    "import tensorflow as tf\n",
    "from tensorflow.python.layers.core import Dense\n",
    "\n",
    "# Check TensorFlow Version\n",
    "assert LooseVersion(tf.__version__) >= LooseVersion('1.1'), 'Please use TensorFlow version 1.1 or newer'\n",
    "print('TensorFlow Version: {}'.format(tf.__version__))\n",
    "\n",
    "# Check for a GPU\n",
    "if not tf.test.gpu_device_name():\n",
    "    warnings.warn('No GPU found. Please use a GPU to train your neural network.')\n",
    "else:\n",
    "    print('Default GPU Device: {}'.format(tf.test.gpu_device_name()))"
   ]
  },
  {
   "cell_type": "markdown",
   "metadata": {},
   "source": [
    "## Build the Neural Network\n",
    "You'll build the components necessary to build a Sequence-to-Sequence model by implementing the following functions below:\n",
    "- `model_inputs`\n",
    "- `process_decoder_input`\n",
    "- `encoding_layer`\n",
    "- `decoding_layer_train`\n",
    "- `decoding_layer_infer`\n",
    "- `decoding_layer`\n",
    "- `seq2seq_model`\n",
    "\n",
    "### Input\n",
    "Implement the `model_inputs()` function to create TF Placeholders for the Neural Network. It should create the following placeholders:\n",
    "\n",
    "- Input text placeholder named \"input\" using the TF Placeholder name parameter with rank 2.\n",
    "- Targets placeholder with rank 2.\n",
    "- Learning rate placeholder with rank 0.\n",
    "- Keep probability placeholder named \"keep_prob\" using the TF Placeholder name parameter with rank 0.\n",
    "- Target sequence length placeholder named \"target_sequence_length\" with rank 1\n",
    "- Max target sequence length tensor named \"max_target_len\" getting its value from applying tf.reduce_max on the target_sequence_length placeholder. Rank 0.\n",
    "- Source sequence length placeholder named \"source_sequence_length\" with rank 1\n",
    "\n",
    "Return the placeholders in the following the tuple (input, targets, learning rate, keep probability, target sequence length, max target sequence length, source sequence length)"
   ]
  },
  {
   "cell_type": "code",
   "execution_count": 7,
   "metadata": {},
   "outputs": [
    {
     "name": "stdout",
     "output_type": "stream",
     "text": [
      "ERROR:tensorflow:==================================\n",
      "Object was never used (type <class 'tensorflow.python.framework.ops.Operation'>):\n",
      "<tf.Operation 'assert_rank_2/Assert/Assert' type=Assert>\n",
      "If you want to mark it as used call its \"mark_used()\" method.\n",
      "It was originally created here:\n",
      "['File \"/home/carnd/anaconda3/envs/dlnd_project4/lib/python3.5/runpy.py\", line 193, in _run_module_as_main\\n    \"__main__\", mod_spec)', 'File \"/home/carnd/anaconda3/envs/dlnd_project4/lib/python3.5/runpy.py\", line 85, in _run_code\\n    exec(code, run_globals)', 'File \"/home/carnd/anaconda3/envs/dlnd_project4/lib/python3.5/site-packages/ipykernel_launcher.py\", line 16, in <module>\\n    app.launch_new_instance()', 'File \"/home/carnd/anaconda3/envs/dlnd_project4/lib/python3.5/site-packages/traitlets/config/application.py\", line 658, in launch_instance\\n    app.start()', 'File \"/home/carnd/anaconda3/envs/dlnd_project4/lib/python3.5/site-packages/ipykernel/kernelapp.py\", line 477, in start\\n    ioloop.IOLoop.instance().start()', 'File \"/home/carnd/anaconda3/envs/dlnd_project4/lib/python3.5/site-packages/zmq/eventloop/ioloop.py\", line 177, in start\\n    super(ZMQIOLoop, self).start()', 'File \"/home/carnd/anaconda3/envs/dlnd_project4/lib/python3.5/site-packages/tornado/ioloop.py\", line 888, in start\\n    handler_func(fd_obj, events)', 'File \"/home/carnd/anaconda3/envs/dlnd_project4/lib/python3.5/site-packages/tornado/stack_context.py\", line 277, in null_wrapper\\n    return fn(*args, **kwargs)', 'File \"/home/carnd/anaconda3/envs/dlnd_project4/lib/python3.5/site-packages/zmq/eventloop/zmqstream.py\", line 440, in _handle_events\\n    self._handle_recv()', 'File \"/home/carnd/anaconda3/envs/dlnd_project4/lib/python3.5/site-packages/zmq/eventloop/zmqstream.py\", line 472, in _handle_recv\\n    self._run_callback(callback, msg)', 'File \"/home/carnd/anaconda3/envs/dlnd_project4/lib/python3.5/site-packages/zmq/eventloop/zmqstream.py\", line 414, in _run_callback\\n    callback(*args, **kwargs)', 'File \"/home/carnd/anaconda3/envs/dlnd_project4/lib/python3.5/site-packages/tornado/stack_context.py\", line 277, in null_wrapper\\n    return fn(*args, **kwargs)', 'File \"/home/carnd/anaconda3/envs/dlnd_project4/lib/python3.5/site-packages/ipykernel/kernelbase.py\", line 283, in dispatcher\\n    return self.dispatch_shell(stream, msg)', 'File \"/home/carnd/anaconda3/envs/dlnd_project4/lib/python3.5/site-packages/ipykernel/kernelbase.py\", line 235, in dispatch_shell\\n    handler(stream, idents, msg)', 'File \"/home/carnd/anaconda3/envs/dlnd_project4/lib/python3.5/site-packages/ipykernel/kernelbase.py\", line 399, in execute_request\\n    user_expressions, allow_stdin)', 'File \"/home/carnd/anaconda3/envs/dlnd_project4/lib/python3.5/site-packages/ipykernel/ipkernel.py\", line 196, in do_execute\\n    res = shell.run_cell(code, store_history=store_history, silent=silent)', 'File \"/home/carnd/anaconda3/envs/dlnd_project4/lib/python3.5/site-packages/ipykernel/zmqshell.py\", line 533, in run_cell\\n    return super(ZMQInteractiveShell, self).run_cell(*args, **kwargs)', 'File \"/home/carnd/anaconda3/envs/dlnd_project4/lib/python3.5/site-packages/IPython/core/interactiveshell.py\", line 2698, in run_cell\\n    interactivity=interactivity, compiler=compiler, result=result)', 'File \"/home/carnd/anaconda3/envs/dlnd_project4/lib/python3.5/site-packages/IPython/core/interactiveshell.py\", line 2808, in run_ast_nodes\\n    if self.run_code(code, result):', 'File \"/home/carnd/anaconda3/envs/dlnd_project4/lib/python3.5/site-packages/IPython/core/interactiveshell.py\", line 2862, in run_code\\n    exec(code_obj, self.user_global_ns, self.user_ns)', 'File \"<ipython-input-7-7d1d889e252e>\", line 21, in <module>\\n    tests.test_model_inputs(model_inputs)', 'File \"/home/carnd/deep-learning/language-translation/problem_unittests.py\", line 106, in test_model_inputs\\n    assert tf.assert_rank(lr, 0, message=\\'Learning Rate has wrong rank\\')', 'File \"/home/carnd/anaconda3/envs/dlnd_project4/lib/python3.5/site-packages/tensorflow/python/ops/check_ops.py\", line 617, in assert_rank\\n    dynamic_condition, data, summarize)', 'File \"/home/carnd/anaconda3/envs/dlnd_project4/lib/python3.5/site-packages/tensorflow/python/ops/check_ops.py\", line 571, in _assert_rank_condition\\n    return control_flow_ops.Assert(condition, data, summarize=summarize)', 'File \"/home/carnd/anaconda3/envs/dlnd_project4/lib/python3.5/site-packages/tensorflow/python/util/tf_should_use.py\", line 170, in wrapped\\n    return _add_should_use_warning(fn(*args, **kwargs))', 'File \"/home/carnd/anaconda3/envs/dlnd_project4/lib/python3.5/site-packages/tensorflow/python/util/tf_should_use.py\", line 139, in _add_should_use_warning\\n    wrapped = TFShouldUseWarningWrapper(x)', 'File \"/home/carnd/anaconda3/envs/dlnd_project4/lib/python3.5/site-packages/tensorflow/python/util/tf_should_use.py\", line 96, in __init__\\n    stack = [s.strip() for s in traceback.format_stack()]']\n",
      "==================================\n",
      "ERROR:tensorflow:==================================\n",
      "Object was never used (type <class 'tensorflow.python.framework.ops.Operation'>):\n",
      "<tf.Operation 'assert_rank_3/Assert/Assert' type=Assert>\n",
      "If you want to mark it as used call its \"mark_used()\" method.\n",
      "It was originally created here:\n",
      "['File \"/home/carnd/anaconda3/envs/dlnd_project4/lib/python3.5/runpy.py\", line 193, in _run_module_as_main\\n    \"__main__\", mod_spec)', 'File \"/home/carnd/anaconda3/envs/dlnd_project4/lib/python3.5/runpy.py\", line 85, in _run_code\\n    exec(code, run_globals)', 'File \"/home/carnd/anaconda3/envs/dlnd_project4/lib/python3.5/site-packages/ipykernel_launcher.py\", line 16, in <module>\\n    app.launch_new_instance()', 'File \"/home/carnd/anaconda3/envs/dlnd_project4/lib/python3.5/site-packages/traitlets/config/application.py\", line 658, in launch_instance\\n    app.start()', 'File \"/home/carnd/anaconda3/envs/dlnd_project4/lib/python3.5/site-packages/ipykernel/kernelapp.py\", line 477, in start\\n    ioloop.IOLoop.instance().start()', 'File \"/home/carnd/anaconda3/envs/dlnd_project4/lib/python3.5/site-packages/zmq/eventloop/ioloop.py\", line 177, in start\\n    super(ZMQIOLoop, self).start()', 'File \"/home/carnd/anaconda3/envs/dlnd_project4/lib/python3.5/site-packages/tornado/ioloop.py\", line 888, in start\\n    handler_func(fd_obj, events)', 'File \"/home/carnd/anaconda3/envs/dlnd_project4/lib/python3.5/site-packages/tornado/stack_context.py\", line 277, in null_wrapper\\n    return fn(*args, **kwargs)', 'File \"/home/carnd/anaconda3/envs/dlnd_project4/lib/python3.5/site-packages/zmq/eventloop/zmqstream.py\", line 440, in _handle_events\\n    self._handle_recv()', 'File \"/home/carnd/anaconda3/envs/dlnd_project4/lib/python3.5/site-packages/zmq/eventloop/zmqstream.py\", line 472, in _handle_recv\\n    self._run_callback(callback, msg)', 'File \"/home/carnd/anaconda3/envs/dlnd_project4/lib/python3.5/site-packages/zmq/eventloop/zmqstream.py\", line 414, in _run_callback\\n    callback(*args, **kwargs)', 'File \"/home/carnd/anaconda3/envs/dlnd_project4/lib/python3.5/site-packages/tornado/stack_context.py\", line 277, in null_wrapper\\n    return fn(*args, **kwargs)', 'File \"/home/carnd/anaconda3/envs/dlnd_project4/lib/python3.5/site-packages/ipykernel/kernelbase.py\", line 283, in dispatcher\\n    return self.dispatch_shell(stream, msg)', 'File \"/home/carnd/anaconda3/envs/dlnd_project4/lib/python3.5/site-packages/ipykernel/kernelbase.py\", line 235, in dispatch_shell\\n    handler(stream, idents, msg)', 'File \"/home/carnd/anaconda3/envs/dlnd_project4/lib/python3.5/site-packages/ipykernel/kernelbase.py\", line 399, in execute_request\\n    user_expressions, allow_stdin)', 'File \"/home/carnd/anaconda3/envs/dlnd_project4/lib/python3.5/site-packages/ipykernel/ipkernel.py\", line 196, in do_execute\\n    res = shell.run_cell(code, store_history=store_history, silent=silent)', 'File \"/home/carnd/anaconda3/envs/dlnd_project4/lib/python3.5/site-packages/ipykernel/zmqshell.py\", line 533, in run_cell\\n    return super(ZMQInteractiveShell, self).run_cell(*args, **kwargs)', 'File \"/home/carnd/anaconda3/envs/dlnd_project4/lib/python3.5/site-packages/IPython/core/interactiveshell.py\", line 2698, in run_cell\\n    interactivity=interactivity, compiler=compiler, result=result)', 'File \"/home/carnd/anaconda3/envs/dlnd_project4/lib/python3.5/site-packages/IPython/core/interactiveshell.py\", line 2808, in run_ast_nodes\\n    if self.run_code(code, result):', 'File \"/home/carnd/anaconda3/envs/dlnd_project4/lib/python3.5/site-packages/IPython/core/interactiveshell.py\", line 2862, in run_code\\n    exec(code_obj, self.user_global_ns, self.user_ns)', 'File \"<ipython-input-7-7d1d889e252e>\", line 21, in <module>\\n    tests.test_model_inputs(model_inputs)', 'File \"/home/carnd/deep-learning/language-translation/problem_unittests.py\", line 107, in test_model_inputs\\n    assert tf.assert_rank(keep_prob, 0, message=\\'Keep Probability has wrong rank\\')', 'File \"/home/carnd/anaconda3/envs/dlnd_project4/lib/python3.5/site-packages/tensorflow/python/ops/check_ops.py\", line 617, in assert_rank\\n    dynamic_condition, data, summarize)', 'File \"/home/carnd/anaconda3/envs/dlnd_project4/lib/python3.5/site-packages/tensorflow/python/ops/check_ops.py\", line 571, in _assert_rank_condition\\n    return control_flow_ops.Assert(condition, data, summarize=summarize)', 'File \"/home/carnd/anaconda3/envs/dlnd_project4/lib/python3.5/site-packages/tensorflow/python/util/tf_should_use.py\", line 170, in wrapped\\n    return _add_should_use_warning(fn(*args, **kwargs))', 'File \"/home/carnd/anaconda3/envs/dlnd_project4/lib/python3.5/site-packages/tensorflow/python/util/tf_should_use.py\", line 139, in _add_should_use_warning\\n    wrapped = TFShouldUseWarningWrapper(x)', 'File \"/home/carnd/anaconda3/envs/dlnd_project4/lib/python3.5/site-packages/tensorflow/python/util/tf_should_use.py\", line 96, in __init__\\n    stack = [s.strip() for s in traceback.format_stack()]']\n",
      "==================================\n"
     ]
    },
    {
     "name": "stdout",
     "output_type": "stream",
     "text": [
      "Tests Passed\n"
     ]
    }
   ],
   "source": [
    "def model_inputs():\n",
    "    \"\"\"\n",
    "    Create TF Placeholders for input, targets, learning rate, and lengths of source and target sequences.\n",
    "    :return: Tuple (input, targets, learning rate, keep probability, target sequence length,\n",
    "    max target sequence length, source sequence length)\n",
    "    \"\"\"\n",
    "    # TODO: Implement Function\n",
    "    input_ = tf.placeholder(tf.int32, [None, None], name='input')\n",
    "    targets = tf.placeholder(tf.int32, [None, None])\n",
    "    learning_rate = tf.placeholder(tf.float32)\n",
    "    keep_prob = tf.placeholder(tf.float32, name='keep_prob')\n",
    "    target_sequence_length = tf.placeholder(tf.int32, [None], name='target_sequence_length')\n",
    "    max_target_len = tf.reduce_max(target_sequence_length, name='max_target_len')\n",
    "    source_sequence_length = tf.placeholder(tf.int32, [None], name='source_sequence_length')\n",
    "    return input_, targets, learning_rate, keep_prob, target_sequence_length, max_target_len, source_sequence_length\n",
    "\n",
    "\n",
    "\"\"\"\n",
    "DON'T MODIFY ANYTHING IN THIS CELL THAT IS BELOW THIS LINE\n",
    "\"\"\"\n",
    "tests.test_model_inputs(model_inputs)"
   ]
  },
  {
   "cell_type": "markdown",
   "metadata": {},
   "source": [
    "### Process Decoder Input\n",
    "Implement `process_decoder_input` by removing the last word id from each batch in `target_data` and concat the GO ID to the begining of each batch."
   ]
  },
  {
   "cell_type": "code",
   "execution_count": 8,
   "metadata": {},
   "outputs": [
    {
     "name": "stdout",
     "output_type": "stream",
     "text": [
      "Tests Passed\n"
     ]
    }
   ],
   "source": [
    "def process_decoder_input(target_data, target_vocab_to_int, batch_size):\n",
    "    \"\"\"\n",
    "    Preprocess target data for encoding\n",
    "    :param target_data: Target Placehoder\n",
    "    :param target_vocab_to_int: Dictionary to go from the target words to an id\n",
    "    :param batch_size: Batch Size\n",
    "    :return: Preprocessed target data\n",
    "    \"\"\"\n",
    "    # TODO: Implement Function\n",
    "    go_id = target_vocab_to_int['<GO>']\n",
    "    go_column = [[go_id]] * batch_size\n",
    "    target_data_new = tf.concat([go_column, target_data[:, :-1]], axis=1)\n",
    "    return target_data_new\n",
    "\n",
    "\"\"\"\n",
    "DON'T MODIFY ANYTHING IN THIS CELL THAT IS BELOW THIS LINE\n",
    "\"\"\"\n",
    "tests.test_process_encoding_input(process_decoder_input)"
   ]
  },
  {
   "cell_type": "markdown",
   "metadata": {},
   "source": [
    "### Encoding\n",
    "Implement `encoding_layer()` to create a Encoder RNN layer:\n",
    " * Embed the encoder input using [`tf.contrib.layers.embed_sequence`](https://www.tensorflow.org/api_docs/python/tf/contrib/layers/embed_sequence)\n",
    " * Construct a [stacked](https://github.com/tensorflow/tensorflow/blob/6947f65a374ebf29e74bb71e36fd82760056d82c/tensorflow/docs_src/tutorials/recurrent.md#stacking-multiple-lstms) [`tf.contrib.rnn.LSTMCell`](https://www.tensorflow.org/api_docs/python/tf/contrib/rnn/LSTMCell) wrapped in a [`tf.contrib.rnn.DropoutWrapper`](https://www.tensorflow.org/api_docs/python/tf/contrib/rnn/DropoutWrapper)\n",
    " * Pass cell and embedded input to [`tf.nn.dynamic_rnn()`](https://www.tensorflow.org/api_docs/python/tf/nn/dynamic_rnn)"
   ]
  },
  {
   "cell_type": "code",
   "execution_count": 9,
   "metadata": {
    "scrolled": false
   },
   "outputs": [
    {
     "name": "stdout",
     "output_type": "stream",
     "text": [
      "Tests Passed\n"
     ]
    }
   ],
   "source": [
    "from imp import reload\n",
    "reload(tests)\n",
    "\n",
    "def encoding_layer(rnn_inputs, rnn_size, num_layers, keep_prob, \n",
    "                   source_sequence_length, source_vocab_size, \n",
    "                   encoding_embedding_size):\n",
    "    \"\"\"\n",
    "    Create encoding layer\n",
    "    :param rnn_inputs: Inputs for the RNN\n",
    "    :param rnn_size: RNN Size\n",
    "    :param num_layers: Number of layers\n",
    "    :param keep_prob: Dropout keep probability\n",
    "    :param source_sequence_length: a list of the lengths of each sequence in the batch\n",
    "    :param source_vocab_size: vocabulary size of source data\n",
    "    :param encoding_embedding_size: embedding size of source data\n",
    "    :return: tuple (RNN output, RNN state)\n",
    "    \"\"\"\n",
    "    # TODO: Implement Function\n",
    "    embedded_inputs = tf.contrib.layers.embed_sequence(rnn_inputs,\n",
    "                                                       vocab_size=source_vocab_size,\n",
    "                                                       embed_dim=encoding_embedding_size)\n",
    "    def build_cell():\n",
    "        lstm = tf.contrib.rnn.LSTMCell(rnn_size)\n",
    "        cell = tf.contrib.rnn.DropoutWrapper(lstm, output_keep_prob=keep_prob)\n",
    "        return cell\n",
    "    stacked_lstm = tf.contrib.rnn.MultiRNNCell([build_cell() for _ in range(num_layers)])\n",
    "    outputs, state = tf.nn.dynamic_rnn(stacked_lstm,\n",
    "                                       embedded_inputs,\n",
    "                                       sequence_length=source_sequence_length,\n",
    "                                       dtype=tf.float32)\n",
    "    return outputs, state\n",
    "\n",
    "\"\"\"\n",
    "DON'T MODIFY ANYTHING IN THIS CELL THAT IS BELOW THIS LINE\n",
    "\"\"\"\n",
    "tests.test_encoding_layer(encoding_layer)"
   ]
  },
  {
   "cell_type": "markdown",
   "metadata": {},
   "source": [
    "### Decoding - Training\n",
    "Create a training decoding layer:\n",
    "* Create a [`tf.contrib.seq2seq.TrainingHelper`](https://www.tensorflow.org/api_docs/python/tf/contrib/seq2seq/TrainingHelper) \n",
    "* Create a [`tf.contrib.seq2seq.BasicDecoder`](https://www.tensorflow.org/api_docs/python/tf/contrib/seq2seq/BasicDecoder)\n",
    "* Obtain the decoder outputs from [`tf.contrib.seq2seq.dynamic_decode`](https://www.tensorflow.org/api_docs/python/tf/contrib/seq2seq/dynamic_decode)"
   ]
  },
  {
   "cell_type": "code",
   "execution_count": 10,
   "metadata": {
    "scrolled": false
   },
   "outputs": [
    {
     "name": "stdout",
     "output_type": "stream",
     "text": [
      "Tests Passed\n"
     ]
    }
   ],
   "source": [
    "def decoding_layer_train(encoder_state, dec_cell, dec_embed_input, \n",
    "                         target_sequence_length, max_summary_length, \n",
    "                         output_layer, keep_prob):\n",
    "    \"\"\"\n",
    "    Create a decoding layer for training\n",
    "    :param encoder_state: Encoder State\n",
    "    :param dec_cell: Decoder RNN Cell\n",
    "    :param dec_embed_input: Decoder embedded input\n",
    "    :param target_sequence_length: The lengths of each sequence in the target batch\n",
    "    :param max_summary_length: The length of the longest sequence in the batch\n",
    "    :param output_layer: Function to apply the output layer\n",
    "    :param keep_prob: Dropout keep probability\n",
    "    :return: BasicDecoderOutput containing training logits and sample_id\n",
    "    \"\"\"\n",
    "    # TODO: Implement Function\n",
    "    training_helper = tf.contrib.seq2seq.TrainingHelper(dec_embed_input, target_sequence_length)\n",
    "    # Dropoutを追加する場所はここでいいのか？\n",
    "    dec_cell_with_dropout = tf.contrib.rnn.DropoutWrapper(dec_cell, output_keep_prob=keep_prob)\n",
    "    decoder = tf.contrib.seq2seq.BasicDecoder(dec_cell_with_dropout,\n",
    "                                              training_helper,\n",
    "                                              encoder_state,\n",
    "                                              output_layer=output_layer)\n",
    "    decoder_outputs, _, _ = tf.contrib.seq2seq.dynamic_decode(decoder,\n",
    "                                                              impute_finished=True,\n",
    "                                                              maximum_iterations=max_summary_length)\n",
    "    return decoder_outputs\n",
    "\n",
    "\n",
    "\n",
    "\"\"\"\n",
    "DON'T MODIFY ANYTHING IN THIS CELL THAT IS BELOW THIS LINE\n",
    "\"\"\"\n",
    "tests.test_decoding_layer_train(decoding_layer_train)"
   ]
  },
  {
   "cell_type": "markdown",
   "metadata": {},
   "source": [
    "### Decoding - Inference\n",
    "Create inference decoder:\n",
    "* Create a [`tf.contrib.seq2seq.GreedyEmbeddingHelper`](https://www.tensorflow.org/api_docs/python/tf/contrib/seq2seq/GreedyEmbeddingHelper)\n",
    "* Create a [`tf.contrib.seq2seq.BasicDecoder`](https://www.tensorflow.org/api_docs/python/tf/contrib/seq2seq/BasicDecoder)\n",
    "* Obtain the decoder outputs from [`tf.contrib.seq2seq.dynamic_decode`](https://www.tensorflow.org/api_docs/python/tf/contrib/seq2seq/dynamic_decode)"
   ]
  },
  {
   "cell_type": "code",
   "execution_count": 11,
   "metadata": {
    "scrolled": false
   },
   "outputs": [
    {
     "name": "stdout",
     "output_type": "stream",
     "text": [
      "Tests Passed\n"
     ]
    }
   ],
   "source": [
    "def decoding_layer_infer(encoder_state, dec_cell, dec_embeddings, start_of_sequence_id,\n",
    "                         end_of_sequence_id, max_target_sequence_length,\n",
    "                         vocab_size, output_layer, batch_size, keep_prob):\n",
    "    \"\"\"\n",
    "    Create a decoding layer for inference\n",
    "    :param encoder_state: Encoder state\n",
    "    :param dec_cell: Decoder RNN Cell\n",
    "    :param dec_embeddings: Decoder embeddings\n",
    "    :param start_of_sequence_id: GO ID\n",
    "    :param end_of_sequence_id: EOS Id\n",
    "    :param max_target_sequence_length: Maximum length of target sequences\n",
    "    :param vocab_size: Size of decoder/target vocabulary\n",
    "    :param decoding_scope: TenorFlow Variable Scope for decoding\n",
    "    :param output_layer: Function to apply the output layer\n",
    "    :param batch_size: Batch size\n",
    "    :param keep_prob: Dropout keep probability\n",
    "    :return: BasicDecoderOutput containing inference logits and sample_id\n",
    "    \"\"\"\n",
    "    # TODO: Implement Function\n",
    "    ge_helper = tf.contrib.seq2seq.GreedyEmbeddingHelper(dec_embeddings,\n",
    "                                                         [start_of_sequence_id] * batch_size,\n",
    "                                                         end_of_sequence_id)\n",
    "    # Dropoutを追加する場所はここでいいのか？\n",
    "    dec_cell_with_dropout = tf.contrib.rnn.DropoutWrapper(dec_cell, output_keep_prob=keep_prob)\n",
    "    decoder = tf.contrib.seq2seq.BasicDecoder(dec_cell_with_dropout,\n",
    "                                              ge_helper,\n",
    "                                              encoder_state,\n",
    "                                              output_layer=output_layer)\n",
    "    decoder_outputs, _, _ = tf.contrib.seq2seq.dynamic_decode(decoder,\n",
    "                                                              impute_finished=True,\n",
    "                                                              maximum_iterations=max_target_sequence_length)\n",
    "    # vocab_sizeが未使用\n",
    "    return decoder_outputs\n",
    "\n",
    "\n",
    "\n",
    "\"\"\"\n",
    "DON'T MODIFY ANYTHING IN THIS CELL THAT IS BELOW THIS LINE\n",
    "\"\"\"\n",
    "tests.test_decoding_layer_infer(decoding_layer_infer)"
   ]
  },
  {
   "cell_type": "markdown",
   "metadata": {},
   "source": [
    "### Build the Decoding Layer\n",
    "Implement `decoding_layer()` to create a Decoder RNN layer.\n",
    "\n",
    "* Embed the target sequences\n",
    "* Construct the decoder LSTM cell (just like you constructed the encoder cell above)\n",
    "* Create an output layer to map the outputs of the decoder to the elements of our vocabulary\n",
    "* Use the your `decoding_layer_train(encoder_state, dec_cell, dec_embed_input, target_sequence_length, max_target_sequence_length, output_layer, keep_prob)` function to get the training logits.\n",
    "* Use your `decoding_layer_infer(encoder_state, dec_cell, dec_embeddings, start_of_sequence_id, end_of_sequence_id, max_target_sequence_length, vocab_size, output_layer, batch_size, keep_prob)` function to get the inference logits.\n",
    "\n",
    "Note: You'll need to use [tf.variable_scope](https://www.tensorflow.org/api_docs/python/tf/variable_scope) to share variables between training and inference."
   ]
  },
  {
   "cell_type": "code",
   "execution_count": 12,
   "metadata": {
    "scrolled": false
   },
   "outputs": [
    {
     "name": "stdout",
     "output_type": "stream",
     "text": [
      "Tests Passed\n"
     ]
    }
   ],
   "source": [
    "def decoding_layer(dec_input, encoder_state,\n",
    "                   target_sequence_length, max_target_sequence_length,\n",
    "                   rnn_size,\n",
    "                   num_layers, target_vocab_to_int, target_vocab_size,\n",
    "                   batch_size, keep_prob, decoding_embedding_size):\n",
    "    \"\"\"\n",
    "    Create decoding layer\n",
    "    :param dec_input: Decoder input\n",
    "    :param encoder_state: Encoder state\n",
    "    :param target_sequence_length: The lengths of each sequence in the target batch\n",
    "    :param max_target_sequence_length: Maximum length of target sequences\n",
    "    :param rnn_size: RNN Size\n",
    "    :param num_layers: Number of layers\n",
    "    :param target_vocab_to_int: Dictionary to go from the target words to an id\n",
    "    :param target_vocab_size: Size of target vocabulary\n",
    "    :param batch_size: The size of the batch\n",
    "    :param keep_prob: Dropout keep probability\n",
    "    :param decoding_embedding_size: Decoding embedding size\n",
    "    :return: Tuple of (Training BasicDecoderOutput, Inference BasicDecoderOutput)\n",
    "    \"\"\"\n",
    "    # TODO: Implement Function\n",
    "    with tf.variable_scope('decode'):\n",
    "        dec_embeddings = tf.Variable(tf.random_uniform([target_vocab_size, decoding_embedding_size]))\n",
    "        dec_embed_input = tf.nn.embedding_lookup(dec_embeddings, dec_input)\n",
    "\n",
    "        def build_cell():\n",
    "            lstm = tf.contrib.rnn.LSTMCell(rnn_size)\n",
    "            cell = tf.contrib.rnn.DropoutWrapper(lstm, output_keep_prob=keep_prob)\n",
    "            return cell\n",
    "        stacked_lstm = tf.contrib.rnn.MultiRNNCell([build_cell() for _ in range(num_layers)])\n",
    "        output_layer = Dense(target_vocab_size)\n",
    "\n",
    "        training_outputs = decoding_layer_train(encoder_state=encoder_state,\n",
    "                                                dec_cell=stacked_lstm,\n",
    "                                                dec_embed_input=dec_embed_input,\n",
    "                                                target_sequence_length=target_sequence_length,\n",
    "                                                max_summary_length=max_target_sequence_length,\n",
    "                                                output_layer=output_layer,\n",
    "                                                keep_prob=keep_prob)\n",
    "        \n",
    "    with tf.variable_scope('decode', reuse=True):\n",
    "        go_id = target_vocab_to_int['<GO>']\n",
    "        eos_id = target_vocab_to_int['<EOS>']\n",
    "        inference_outputs = decoding_layer_infer(encoder_state=encoder_state,\n",
    "                                                 dec_cell=stacked_lstm,\n",
    "                                                 dec_embeddings=dec_embeddings,\n",
    "                                                 start_of_sequence_id=go_id,\n",
    "                                                 end_of_sequence_id=eos_id,\n",
    "                                                 max_target_sequence_length=max_target_sequence_length,\n",
    "                                                 vocab_size=target_vocab_size,\n",
    "                                                 output_layer=output_layer,\n",
    "                                                 batch_size=batch_size,\n",
    "                                                 keep_prob=keep_prob)\n",
    "        \n",
    "    return training_outputs, inference_outputs\n",
    "\n",
    "\n",
    "\n",
    "\"\"\"\n",
    "DON'T MODIFY ANYTHING IN THIS CELL THAT IS BELOW THIS LINE\n",
    "\"\"\"\n",
    "tests.test_decoding_layer(decoding_layer)"
   ]
  },
  {
   "cell_type": "markdown",
   "metadata": {},
   "source": [
    "### Build the Neural Network\n",
    "Apply the functions you implemented above to:\n",
    "\n",
    "- Encode the input using your `encoding_layer(rnn_inputs, rnn_size, num_layers, keep_prob,  source_sequence_length, source_vocab_size, encoding_embedding_size)`.\n",
    "- Process target data using your `process_decoder_input(target_data, target_vocab_to_int, batch_size)` function.\n",
    "- Decode the encoded input using your `decoding_layer(dec_input, enc_state, target_sequence_length, max_target_sentence_length, rnn_size, num_layers, target_vocab_to_int, target_vocab_size, batch_size, keep_prob, dec_embedding_size)` function."
   ]
  },
  {
   "cell_type": "code",
   "execution_count": 13,
   "metadata": {},
   "outputs": [
    {
     "name": "stdout",
     "output_type": "stream",
     "text": [
      "Tests Passed\n"
     ]
    }
   ],
   "source": [
    "def seq2seq_model(input_data, target_data, keep_prob, batch_size,\n",
    "                  source_sequence_length, target_sequence_length,\n",
    "                  max_target_sentence_length,\n",
    "                  source_vocab_size, target_vocab_size,\n",
    "                  enc_embedding_size, dec_embedding_size,\n",
    "                  rnn_size, num_layers, target_vocab_to_int):\n",
    "    \"\"\"\n",
    "    Build the Sequence-to-Sequence part of the neural network\n",
    "    :param input_data: Input placeholder\n",
    "    :param target_data: Target placeholder\n",
    "    :param keep_prob: Dropout keep probability placeholder\n",
    "    :param batch_size: Batch Size\n",
    "    :param source_sequence_length: Sequence Lengths of source sequences in the batch\n",
    "    :param target_sequence_length: Sequence Lengths of target sequences in the batch\n",
    "    :param source_vocab_size: Source vocabulary size\n",
    "    :param target_vocab_size: Target vocabulary size\n",
    "    :param enc_embedding_size: Decoder embedding size\n",
    "    :param dec_embedding_size: Encoder embedding size\n",
    "    :param rnn_size: RNN Size\n",
    "    :param num_layers: Number of layers\n",
    "    :param target_vocab_to_int: Dictionary to go from the target words to an id\n",
    "    :return: Tuple of (Training BasicDecoderOutput, Inference BasicDecoderOutput)\n",
    "    \"\"\"\n",
    "    # TODO: Implement Function\n",
    "    enc_outputs, enc_state = encoding_layer(rnn_inputs=input_data,\n",
    "                                            rnn_size=rnn_size,\n",
    "                                            num_layers=num_layers,\n",
    "                                            keep_prob=keep_prob,\n",
    "                                            source_sequence_length=source_sequence_length,\n",
    "                                            source_vocab_size=source_vocab_size,\n",
    "                                            encoding_embedding_size=enc_embedding_size)\n",
    "    \n",
    "    dec_input = process_decoder_input(target_data=target_data,\n",
    "                                      target_vocab_to_int=target_vocab_to_int,\n",
    "                                      batch_size=batch_size)\n",
    "    \n",
    "    training_outputs, inference_outputs = \\\n",
    "        decoding_layer(dec_input=dec_input,\n",
    "                       encoder_state=enc_state,\n",
    "                       target_sequence_length=target_sequence_length,\n",
    "                       max_target_sequence_length=max_target_sentence_length,\n",
    "                       rnn_size=rnn_size,\n",
    "                       num_layers=num_layers,\n",
    "                       target_vocab_to_int=target_vocab_to_int,\n",
    "                       target_vocab_size=target_vocab_size,\n",
    "                       batch_size=batch_size,\n",
    "                       keep_prob=keep_prob,\n",
    "                       decoding_embedding_size=dec_embedding_size)\n",
    "        \n",
    "    return training_outputs, inference_outputs\n",
    "\n",
    "\n",
    "\"\"\"\n",
    "DON'T MODIFY ANYTHING IN THIS CELL THAT IS BELOW THIS LINE\n",
    "\"\"\"\n",
    "tests.test_seq2seq_model(seq2seq_model)"
   ]
  },
  {
   "cell_type": "markdown",
   "metadata": {},
   "source": [
    "## Neural Network Training\n",
    "### Hyperparameters\n",
    "Tune the following parameters:\n",
    "\n",
    "- Set `epochs` to the number of epochs.\n",
    "- Set `batch_size` to the batch size.\n",
    "- Set `rnn_size` to the size of the RNNs.\n",
    "- Set `num_layers` to the number of layers.\n",
    "- Set `encoding_embedding_size` to the size of the embedding for the encoder.\n",
    "- Set `decoding_embedding_size` to the size of the embedding for the decoder.\n",
    "- Set `learning_rate` to the learning rate.\n",
    "- Set `keep_probability` to the Dropout keep probability\n",
    "- Set `display_step` to state how many steps between each debug output statement"
   ]
  },
  {
   "cell_type": "code",
   "execution_count": 30,
   "metadata": {
    "collapsed": true
   },
   "outputs": [],
   "source": [
    "# Number of Epochs\n",
    "epochs = 10\n",
    "# Batch Size\n",
    "batch_size = 512\n",
    "# RNN Size\n",
    "rnn_size = 256\n",
    "# Number of Layers\n",
    "num_layers = 2\n",
    "# Embedding Size\n",
    "encoding_embedding_size = 64\n",
    "decoding_embedding_size = 64\n",
    "# Learning Rate\n",
    "learning_rate = 0.01\n",
    "# Dropout Keep Probability\n",
    "keep_probability = 0.5\n",
    "display_step = 10"
   ]
  },
  {
   "cell_type": "markdown",
   "metadata": {},
   "source": [
    "### Build the Graph\n",
    "Build the graph using the neural network you implemented."
   ]
  },
  {
   "cell_type": "code",
   "execution_count": 31,
   "metadata": {
    "collapsed": true
   },
   "outputs": [],
   "source": [
    "\"\"\"\n",
    "DON'T MODIFY ANYTHING IN THIS CELL\n",
    "\"\"\"\n",
    "save_path = 'checkpoints/dev'\n",
    "(source_int_text, target_int_text), (source_vocab_to_int, target_vocab_to_int), _ = helper.load_preprocess()\n",
    "max_target_sentence_length = max([len(sentence) for sentence in source_int_text])\n",
    "\n",
    "train_graph = tf.Graph()\n",
    "with train_graph.as_default():\n",
    "    input_data, targets, lr, keep_prob, target_sequence_length, max_target_sequence_length, source_sequence_length = model_inputs()\n",
    "\n",
    "    #sequence_length = tf.placeholder_with_default(max_target_sentence_length, None, name='sequence_length')\n",
    "    input_shape = tf.shape(input_data)\n",
    "\n",
    "    train_logits, inference_logits = seq2seq_model(tf.reverse(input_data, [-1]),\n",
    "                                                   targets,\n",
    "                                                   keep_prob,\n",
    "                                                   batch_size,\n",
    "                                                   source_sequence_length,\n",
    "                                                   target_sequence_length,\n",
    "                                                   max_target_sequence_length,\n",
    "                                                   len(source_vocab_to_int),\n",
    "                                                   len(target_vocab_to_int),\n",
    "                                                   encoding_embedding_size,\n",
    "                                                   decoding_embedding_size,\n",
    "                                                   rnn_size,\n",
    "                                                   num_layers,\n",
    "                                                   target_vocab_to_int)\n",
    "\n",
    "\n",
    "    training_logits = tf.identity(train_logits.rnn_output, name='logits')\n",
    "    inference_logits = tf.identity(inference_logits.sample_id, name='predictions')\n",
    "\n",
    "    masks = tf.sequence_mask(target_sequence_length, max_target_sequence_length, dtype=tf.float32, name='masks')\n",
    "\n",
    "    with tf.name_scope(\"optimization\"):\n",
    "        # Loss function\n",
    "        cost = tf.contrib.seq2seq.sequence_loss(\n",
    "            training_logits,\n",
    "            targets,\n",
    "            masks)\n",
    "\n",
    "        # Optimizer\n",
    "        optimizer = tf.train.AdamOptimizer(lr)\n",
    "\n",
    "        # Gradient Clipping\n",
    "        gradients = optimizer.compute_gradients(cost)\n",
    "        capped_gradients = [(tf.clip_by_value(grad, -1., 1.), var) for grad, var in gradients if grad is not None]\n",
    "        train_op = optimizer.apply_gradients(capped_gradients)\n"
   ]
  },
  {
   "cell_type": "markdown",
   "metadata": {},
   "source": [
    "Batch and pad the source and target sequences"
   ]
  },
  {
   "cell_type": "code",
   "execution_count": 32,
   "metadata": {
    "collapsed": true
   },
   "outputs": [],
   "source": [
    "\"\"\"\n",
    "DON'T MODIFY ANYTHING IN THIS CELL\n",
    "\"\"\"\n",
    "def pad_sentence_batch(sentence_batch, pad_int):\n",
    "    \"\"\"Pad sentences with <PAD> so that each sentence of a batch has the same length\"\"\"\n",
    "    max_sentence = max([len(sentence) for sentence in sentence_batch])\n",
    "    return [sentence + [pad_int] * (max_sentence - len(sentence)) for sentence in sentence_batch]\n",
    "\n",
    "\n",
    "def get_batches(sources, targets, batch_size, source_pad_int, target_pad_int):\n",
    "    \"\"\"Batch targets, sources, and the lengths of their sentences together\"\"\"\n",
    "    for batch_i in range(0, len(sources)//batch_size):\n",
    "        start_i = batch_i * batch_size\n",
    "\n",
    "        # Slice the right amount for the batch\n",
    "        sources_batch = sources[start_i:start_i + batch_size]\n",
    "        targets_batch = targets[start_i:start_i + batch_size]\n",
    "\n",
    "        # Pad\n",
    "        pad_sources_batch = np.array(pad_sentence_batch(sources_batch, source_pad_int))\n",
    "        pad_targets_batch = np.array(pad_sentence_batch(targets_batch, target_pad_int))\n",
    "\n",
    "        # Need the lengths for the _lengths parameters\n",
    "        pad_targets_lengths = []\n",
    "        for target in pad_targets_batch:\n",
    "            pad_targets_lengths.append(len(target))\n",
    "\n",
    "        pad_source_lengths = []\n",
    "        for source in pad_sources_batch:\n",
    "            pad_source_lengths.append(len(source))\n",
    "\n",
    "        yield pad_sources_batch, pad_targets_batch, pad_source_lengths, pad_targets_lengths\n"
   ]
  },
  {
   "cell_type": "markdown",
   "metadata": {},
   "source": [
    "### Train\n",
    "Train the neural network on the preprocessed data. If you have a hard time getting a good loss, check the forms to see if anyone is having the same problem."
   ]
  },
  {
   "cell_type": "code",
   "execution_count": 33,
   "metadata": {
    "scrolled": false
   },
   "outputs": [
    {
     "name": "stdout",
     "output_type": "stream",
     "text": [
      "Epoch   0 Batch   10/269 - Train Accuracy: 0.2641, Validation Accuracy: 0.3373, Loss: 3.5127\n",
      "Epoch   0 Batch   20/269 - Train Accuracy: 0.3294, Validation Accuracy: 0.3906, Loss: 3.0325\n",
      "Epoch   0 Batch   30/269 - Train Accuracy: 0.3893, Validation Accuracy: 0.4212, Loss: 2.7147\n",
      "Epoch   0 Batch   40/269 - Train Accuracy: 0.4254, Validation Accuracy: 0.4775, Loss: 2.6028\n",
      "Epoch   0 Batch   50/269 - Train Accuracy: 0.4698, Validation Accuracy: 0.5138, Loss: 2.4001\n",
      "Epoch   0 Batch   60/269 - Train Accuracy: 0.5343, Validation Accuracy: 0.5466, Loss: 2.0848\n",
      "Epoch   0 Batch   70/269 - Train Accuracy: 0.5459, Validation Accuracy: 0.5472, Loss: 1.9294\n",
      "Epoch   0 Batch   80/269 - Train Accuracy: 0.5578, Validation Accuracy: 0.5675, Loss: 1.7695\n",
      "Epoch   0 Batch   90/269 - Train Accuracy: 0.5193, Validation Accuracy: 0.5731, Loss: 1.6968\n",
      "Epoch   0 Batch  100/269 - Train Accuracy: 0.5754, Validation Accuracy: 0.5800, Loss: 1.4307\n",
      "Epoch   0 Batch  110/269 - Train Accuracy: 0.5549, Validation Accuracy: 0.5650, Loss: 1.2854\n",
      "Epoch   0 Batch  120/269 - Train Accuracy: 0.5532, Validation Accuracy: 0.5807, Loss: 1.2099\n",
      "Epoch   0 Batch  130/269 - Train Accuracy: 0.5373, Validation Accuracy: 0.5850, Loss: 1.1129\n",
      "Epoch   0 Batch  140/269 - Train Accuracy: 0.5716, Validation Accuracy: 0.5876, Loss: 0.9926\n",
      "Epoch   0 Batch  150/269 - Train Accuracy: 0.5873, Validation Accuracy: 0.5961, Loss: 0.9275\n",
      "Epoch   0 Batch  160/269 - Train Accuracy: 0.5761, Validation Accuracy: 0.5902, Loss: 0.8863\n",
      "Epoch   0 Batch  170/269 - Train Accuracy: 0.5950, Validation Accuracy: 0.6100, Loss: 0.8477\n",
      "Epoch   0 Batch  180/269 - Train Accuracy: 0.5929, Validation Accuracy: 0.6060, Loss: 0.8094\n",
      "Epoch   0 Batch  190/269 - Train Accuracy: 0.6134, Validation Accuracy: 0.6207, Loss: 0.7684\n",
      "Epoch   0 Batch  200/269 - Train Accuracy: 0.6146, Validation Accuracy: 0.6311, Loss: 0.7882\n",
      "Epoch   0 Batch  210/269 - Train Accuracy: 0.6195, Validation Accuracy: 0.6276, Loss: 0.7355\n",
      "Epoch   0 Batch  220/269 - Train Accuracy: 0.6397, Validation Accuracy: 0.6412, Loss: 0.6820\n",
      "Epoch   0 Batch  230/269 - Train Accuracy: 0.6326, Validation Accuracy: 0.6401, Loss: 0.6957\n",
      "Epoch   0 Batch  240/269 - Train Accuracy: 0.6783, Validation Accuracy: 0.6480, Loss: 0.6195\n",
      "Epoch   0 Batch  250/269 - Train Accuracy: 0.6485, Validation Accuracy: 0.6593, Loss: 0.6663\n",
      "Epoch   0 Batch  260/269 - Train Accuracy: 0.6329, Validation Accuracy: 0.6616, Loss: 0.6754\n",
      "Epoch   1 Batch   10/269 - Train Accuracy: 0.6453, Validation Accuracy: 0.6706, Loss: 0.6414\n",
      "Epoch   1 Batch   20/269 - Train Accuracy: 0.6614, Validation Accuracy: 0.6769, Loss: 0.6364\n",
      "Epoch   1 Batch   30/269 - Train Accuracy: 0.6745, Validation Accuracy: 0.6824, Loss: 0.5822\n",
      "Epoch   1 Batch   40/269 - Train Accuracy: 0.6694, Validation Accuracy: 0.6823, Loss: 0.6182\n",
      "Epoch   1 Batch   50/269 - Train Accuracy: 0.6744, Validation Accuracy: 0.6790, Loss: 0.5970\n",
      "Epoch   1 Batch   60/269 - Train Accuracy: 0.6850, Validation Accuracy: 0.6883, Loss: 0.5301\n",
      "Epoch   1 Batch   70/269 - Train Accuracy: 0.7095, Validation Accuracy: 0.7017, Loss: 0.5473\n",
      "Epoch   1 Batch   80/269 - Train Accuracy: 0.7052, Validation Accuracy: 0.7017, Loss: 0.5241\n",
      "Epoch   1 Batch   90/269 - Train Accuracy: 0.6530, Validation Accuracy: 0.7035, Loss: 0.5415\n",
      "Epoch   1 Batch  100/269 - Train Accuracy: 0.7264, Validation Accuracy: 0.7063, Loss: 0.4940\n",
      "Epoch   1 Batch  110/269 - Train Accuracy: 0.7168, Validation Accuracy: 0.7037, Loss: 0.4911\n",
      "Epoch   1 Batch  120/269 - Train Accuracy: 0.7107, Validation Accuracy: 0.7077, Loss: 0.5006\n",
      "Epoch   1 Batch  130/269 - Train Accuracy: 0.7114, Validation Accuracy: 0.7142, Loss: 0.4872\n",
      "Epoch   1 Batch  140/269 - Train Accuracy: 0.7110, Validation Accuracy: 0.7132, Loss: 0.4721\n",
      "Epoch   1 Batch  150/269 - Train Accuracy: 0.7154, Validation Accuracy: 0.7132, Loss: 0.4553\n",
      "Epoch   1 Batch  160/269 - Train Accuracy: 0.7293, Validation Accuracy: 0.7270, Loss: 0.4453\n",
      "Epoch   1 Batch  170/269 - Train Accuracy: 0.7185, Validation Accuracy: 0.7336, Loss: 0.4329\n",
      "Epoch   1 Batch  180/269 - Train Accuracy: 0.7254, Validation Accuracy: 0.7347, Loss: 0.4313\n",
      "Epoch   1 Batch  190/269 - Train Accuracy: 0.7307, Validation Accuracy: 0.7416, Loss: 0.4206\n",
      "Epoch   1 Batch  200/269 - Train Accuracy: 0.7338, Validation Accuracy: 0.7370, Loss: 0.4306\n",
      "Epoch   1 Batch  210/269 - Train Accuracy: 0.7467, Validation Accuracy: 0.7355, Loss: 0.3984\n",
      "Epoch   1 Batch  220/269 - Train Accuracy: 0.7391, Validation Accuracy: 0.7330, Loss: 0.3799\n",
      "Epoch   1 Batch  230/269 - Train Accuracy: 0.7386, Validation Accuracy: 0.7438, Loss: 0.3872\n",
      "Epoch   1 Batch  240/269 - Train Accuracy: 0.7714, Validation Accuracy: 0.7467, Loss: 0.3507\n",
      "Epoch   1 Batch  250/269 - Train Accuracy: 0.7533, Validation Accuracy: 0.7446, Loss: 0.3904\n",
      "Epoch   1 Batch  260/269 - Train Accuracy: 0.7313, Validation Accuracy: 0.7425, Loss: 0.3877\n",
      "Epoch   2 Batch   10/269 - Train Accuracy: 0.7702, Validation Accuracy: 0.7670, Loss: 0.3689\n",
      "Epoch   2 Batch   20/269 - Train Accuracy: 0.7547, Validation Accuracy: 0.7721, Loss: 0.3624\n",
      "Epoch   2 Batch   30/269 - Train Accuracy: 0.7745, Validation Accuracy: 0.7552, Loss: 0.3413\n",
      "Epoch   2 Batch   40/269 - Train Accuracy: 0.7653, Validation Accuracy: 0.7711, Loss: 0.3497\n",
      "Epoch   2 Batch   50/269 - Train Accuracy: 0.7661, Validation Accuracy: 0.7842, Loss: 0.3444\n",
      "Epoch   2 Batch   60/269 - Train Accuracy: 0.7728, Validation Accuracy: 0.7868, Loss: 0.3042\n",
      "Epoch   2 Batch   70/269 - Train Accuracy: 0.8036, Validation Accuracy: 0.7868, Loss: 0.3101\n",
      "Epoch   2 Batch   80/269 - Train Accuracy: 0.8065, Validation Accuracy: 0.7931, Loss: 0.2919\n",
      "Epoch   2 Batch   90/269 - Train Accuracy: 0.7758, Validation Accuracy: 0.7881, Loss: 0.3078\n",
      "Epoch   2 Batch  100/269 - Train Accuracy: 0.8218, Validation Accuracy: 0.8056, Loss: 0.2821\n",
      "Epoch   2 Batch  110/269 - Train Accuracy: 0.7911, Validation Accuracy: 0.7901, Loss: 0.2710\n",
      "Epoch   2 Batch  120/269 - Train Accuracy: 0.8208, Validation Accuracy: 0.8185, Loss: 0.2899\n",
      "Epoch   2 Batch  130/269 - Train Accuracy: 0.7987, Validation Accuracy: 0.8155, Loss: 0.2678\n",
      "Epoch   2 Batch  140/269 - Train Accuracy: 0.8218, Validation Accuracy: 0.8315, Loss: 0.2588\n",
      "Epoch   2 Batch  150/269 - Train Accuracy: 0.8170, Validation Accuracy: 0.8390, Loss: 0.2516\n",
      "Epoch   2 Batch  160/269 - Train Accuracy: 0.8340, Validation Accuracy: 0.8346, Loss: 0.2449\n",
      "Epoch   2 Batch  170/269 - Train Accuracy: 0.8278, Validation Accuracy: 0.8324, Loss: 0.2416\n",
      "Epoch   2 Batch  180/269 - Train Accuracy: 0.8444, Validation Accuracy: 0.8379, Loss: 0.2437\n",
      "Epoch   2 Batch  190/269 - Train Accuracy: 0.8424, Validation Accuracy: 0.8457, Loss: 0.2310\n",
      "Epoch   2 Batch  200/269 - Train Accuracy: 0.8300, Validation Accuracy: 0.8475, Loss: 0.2235\n",
      "Epoch   2 Batch  210/269 - Train Accuracy: 0.8517, Validation Accuracy: 0.8532, Loss: 0.2115\n",
      "Epoch   2 Batch  220/269 - Train Accuracy: 0.8388, Validation Accuracy: 0.8619, Loss: 0.2051\n",
      "Epoch   2 Batch  230/269 - Train Accuracy: 0.8632, Validation Accuracy: 0.8589, Loss: 0.2102\n",
      "Epoch   2 Batch  240/269 - Train Accuracy: 0.8700, Validation Accuracy: 0.8575, Loss: 0.1788\n",
      "Epoch   2 Batch  250/269 - Train Accuracy: 0.8752, Validation Accuracy: 0.8756, Loss: 0.2086\n",
      "Epoch   2 Batch  260/269 - Train Accuracy: 0.8591, Validation Accuracy: 0.8680, Loss: 0.2072\n",
      "Epoch   3 Batch   10/269 - Train Accuracy: 0.8794, Validation Accuracy: 0.8640, Loss: 0.1882\n",
      "Epoch   3 Batch   20/269 - Train Accuracy: 0.8780, Validation Accuracy: 0.8702, Loss: 0.1864\n",
      "Epoch   3 Batch   30/269 - Train Accuracy: 0.8809, Validation Accuracy: 0.8815, Loss: 0.1750\n",
      "Epoch   3 Batch   40/269 - Train Accuracy: 0.8809, Validation Accuracy: 0.8760, Loss: 0.1801\n",
      "Epoch   3 Batch   50/269 - Train Accuracy: 0.8703, Validation Accuracy: 0.8842, Loss: 0.1879\n",
      "Epoch   3 Batch   60/269 - Train Accuracy: 0.8935, Validation Accuracy: 0.8801, Loss: 0.1555\n",
      "Epoch   3 Batch   70/269 - Train Accuracy: 0.8980, Validation Accuracy: 0.8924, Loss: 0.1664\n",
      "Epoch   3 Batch   80/269 - Train Accuracy: 0.8889, Validation Accuracy: 0.8833, Loss: 0.1669\n",
      "Epoch   3 Batch   90/269 - Train Accuracy: 0.8779, Validation Accuracy: 0.8944, Loss: 0.1720\n",
      "Epoch   3 Batch  100/269 - Train Accuracy: 0.9042, Validation Accuracy: 0.8866, Loss: 0.1500\n",
      "Epoch   3 Batch  110/269 - Train Accuracy: 0.8915, Validation Accuracy: 0.8891, Loss: 0.1489\n"
     ]
    },
    {
     "name": "stdout",
     "output_type": "stream",
     "text": [
      "Epoch   3 Batch  120/269 - Train Accuracy: 0.8996, Validation Accuracy: 0.9069, Loss: 0.1616\n",
      "Epoch   3 Batch  130/269 - Train Accuracy: 0.9041, Validation Accuracy: 0.8887, Loss: 0.1539\n",
      "Epoch   3 Batch  140/269 - Train Accuracy: 0.8988, Validation Accuracy: 0.9069, Loss: 0.1554\n",
      "Epoch   3 Batch  150/269 - Train Accuracy: 0.8987, Validation Accuracy: 0.9043, Loss: 0.1464\n",
      "Epoch   3 Batch  160/269 - Train Accuracy: 0.8988, Validation Accuracy: 0.9088, Loss: 0.1389\n",
      "Epoch   3 Batch  170/269 - Train Accuracy: 0.9062, Validation Accuracy: 0.9141, Loss: 0.1313\n",
      "Epoch   3 Batch  180/269 - Train Accuracy: 0.9154, Validation Accuracy: 0.9105, Loss: 0.1305\n",
      "Epoch   3 Batch  190/269 - Train Accuracy: 0.8953, Validation Accuracy: 0.9055, Loss: 0.1344\n",
      "Epoch   3 Batch  200/269 - Train Accuracy: 0.8983, Validation Accuracy: 0.9143, Loss: 0.1385\n",
      "Epoch   3 Batch  210/269 - Train Accuracy: 0.8938, Validation Accuracy: 0.9131, Loss: 0.1362\n",
      "Epoch   3 Batch  220/269 - Train Accuracy: 0.8974, Validation Accuracy: 0.9078, Loss: 0.1343\n",
      "Epoch   3 Batch  230/269 - Train Accuracy: 0.9082, Validation Accuracy: 0.9094, Loss: 0.1258\n",
      "Epoch   3 Batch  240/269 - Train Accuracy: 0.9140, Validation Accuracy: 0.9101, Loss: 0.1170\n",
      "Epoch   3 Batch  250/269 - Train Accuracy: 0.9183, Validation Accuracy: 0.9201, Loss: 0.1266\n",
      "Epoch   3 Batch  260/269 - Train Accuracy: 0.9066, Validation Accuracy: 0.9263, Loss: 0.1274\n",
      "Epoch   4 Batch   10/269 - Train Accuracy: 0.9188, Validation Accuracy: 0.9207, Loss: 0.1050\n",
      "Epoch   4 Batch   20/269 - Train Accuracy: 0.9200, Validation Accuracy: 0.9169, Loss: 0.1166\n",
      "Epoch   4 Batch   30/269 - Train Accuracy: 0.9262, Validation Accuracy: 0.9200, Loss: 0.1064\n",
      "Epoch   4 Batch   40/269 - Train Accuracy: 0.9185, Validation Accuracy: 0.9235, Loss: 0.1214\n",
      "Epoch   4 Batch   50/269 - Train Accuracy: 0.9084, Validation Accuracy: 0.9277, Loss: 0.1203\n",
      "Epoch   4 Batch   60/269 - Train Accuracy: 0.9313, Validation Accuracy: 0.9252, Loss: 0.0988\n",
      "Epoch   4 Batch   70/269 - Train Accuracy: 0.9368, Validation Accuracy: 0.9260, Loss: 0.1183\n",
      "Epoch   4 Batch   80/269 - Train Accuracy: 0.9280, Validation Accuracy: 0.9268, Loss: 0.1099\n",
      "Epoch   4 Batch   90/269 - Train Accuracy: 0.9216, Validation Accuracy: 0.9393, Loss: 0.1045\n",
      "Epoch   4 Batch  100/269 - Train Accuracy: 0.9342, Validation Accuracy: 0.9254, Loss: 0.1030\n",
      "Epoch   4 Batch  110/269 - Train Accuracy: 0.9220, Validation Accuracy: 0.9145, Loss: 0.0993\n",
      "Epoch   4 Batch  120/269 - Train Accuracy: 0.9306, Validation Accuracy: 0.9169, Loss: 0.1016\n",
      "Epoch   4 Batch  130/269 - Train Accuracy: 0.9340, Validation Accuracy: 0.9338, Loss: 0.1019\n",
      "Epoch   4 Batch  140/269 - Train Accuracy: 0.9302, Validation Accuracy: 0.9242, Loss: 0.1080\n",
      "Epoch   4 Batch  150/269 - Train Accuracy: 0.9299, Validation Accuracy: 0.9321, Loss: 0.0951\n",
      "Epoch   4 Batch  160/269 - Train Accuracy: 0.9298, Validation Accuracy: 0.9325, Loss: 0.0917\n",
      "Epoch   4 Batch  170/269 - Train Accuracy: 0.9223, Validation Accuracy: 0.9289, Loss: 0.0939\n",
      "Epoch   4 Batch  180/269 - Train Accuracy: 0.9385, Validation Accuracy: 0.9279, Loss: 0.0977\n",
      "Epoch   4 Batch  190/269 - Train Accuracy: 0.9217, Validation Accuracy: 0.9315, Loss: 0.0928\n",
      "Epoch   4 Batch  200/269 - Train Accuracy: 0.9252, Validation Accuracy: 0.9267, Loss: 0.0871\n",
      "Epoch   4 Batch  210/269 - Train Accuracy: 0.9266, Validation Accuracy: 0.9349, Loss: 0.0896\n",
      "Epoch   4 Batch  220/269 - Train Accuracy: 0.9215, Validation Accuracy: 0.9345, Loss: 0.0871\n",
      "Epoch   4 Batch  230/269 - Train Accuracy: 0.9367, Validation Accuracy: 0.9309, Loss: 0.0870\n",
      "Epoch   4 Batch  240/269 - Train Accuracy: 0.9288, Validation Accuracy: 0.9303, Loss: 0.0814\n",
      "Epoch   4 Batch  250/269 - Train Accuracy: 0.9419, Validation Accuracy: 0.9291, Loss: 0.0893\n",
      "Epoch   4 Batch  260/269 - Train Accuracy: 0.9315, Validation Accuracy: 0.9360, Loss: 0.0921\n",
      "Epoch   5 Batch   10/269 - Train Accuracy: 0.9448, Validation Accuracy: 0.9338, Loss: 0.0796\n",
      "Epoch   5 Batch   20/269 - Train Accuracy: 0.9322, Validation Accuracy: 0.9332, Loss: 0.0820\n",
      "Epoch   5 Batch   30/269 - Train Accuracy: 0.9476, Validation Accuracy: 0.9376, Loss: 0.0885\n",
      "Epoch   5 Batch   40/269 - Train Accuracy: 0.9279, Validation Accuracy: 0.9302, Loss: 0.0881\n",
      "Epoch   5 Batch   50/269 - Train Accuracy: 0.9150, Validation Accuracy: 0.9363, Loss: 0.0946\n",
      "Epoch   5 Batch   60/269 - Train Accuracy: 0.9406, Validation Accuracy: 0.9379, Loss: 0.0721\n",
      "Epoch   5 Batch   70/269 - Train Accuracy: 0.9418, Validation Accuracy: 0.9191, Loss: 0.0867\n",
      "Epoch   5 Batch   80/269 - Train Accuracy: 0.9372, Validation Accuracy: 0.9404, Loss: 0.0867\n",
      "Epoch   5 Batch   90/269 - Train Accuracy: 0.9278, Validation Accuracy: 0.9347, Loss: 0.0881\n",
      "Epoch   5 Batch  100/269 - Train Accuracy: 0.9377, Validation Accuracy: 0.9360, Loss: 0.0828\n",
      "Epoch   5 Batch  110/269 - Train Accuracy: 0.9365, Validation Accuracy: 0.9396, Loss: 0.0744\n",
      "Epoch   5 Batch  120/269 - Train Accuracy: 0.9328, Validation Accuracy: 0.9347, Loss: 0.0857\n",
      "Epoch   5 Batch  130/269 - Train Accuracy: 0.9446, Validation Accuracy: 0.9292, Loss: 0.0894\n",
      "Epoch   5 Batch  140/269 - Train Accuracy: 0.9393, Validation Accuracy: 0.9411, Loss: 0.0926\n",
      "Epoch   5 Batch  150/269 - Train Accuracy: 0.9382, Validation Accuracy: 0.9425, Loss: 0.0872\n",
      "Epoch   5 Batch  160/269 - Train Accuracy: 0.9466, Validation Accuracy: 0.9350, Loss: 0.0799\n",
      "Epoch   5 Batch  170/269 - Train Accuracy: 0.9338, Validation Accuracy: 0.9401, Loss: 0.0760\n",
      "Epoch   5 Batch  180/269 - Train Accuracy: 0.9405, Validation Accuracy: 0.9469, Loss: 0.0694\n",
      "Epoch   5 Batch  190/269 - Train Accuracy: 0.9354, Validation Accuracy: 0.9461, Loss: 0.0769\n",
      "Epoch   5 Batch  200/269 - Train Accuracy: 0.9395, Validation Accuracy: 0.9413, Loss: 0.0778\n",
      "Epoch   5 Batch  210/269 - Train Accuracy: 0.9408, Validation Accuracy: 0.9407, Loss: 0.0729\n",
      "Epoch   5 Batch  220/269 - Train Accuracy: 0.9354, Validation Accuracy: 0.9450, Loss: 0.0748\n",
      "Epoch   5 Batch  230/269 - Train Accuracy: 0.9480, Validation Accuracy: 0.9493, Loss: 0.0672\n",
      "Epoch   5 Batch  240/269 - Train Accuracy: 0.9524, Validation Accuracy: 0.9435, Loss: 0.0665\n",
      "Epoch   5 Batch  250/269 - Train Accuracy: 0.9494, Validation Accuracy: 0.9493, Loss: 0.0698\n",
      "Epoch   5 Batch  260/269 - Train Accuracy: 0.9557, Validation Accuracy: 0.9427, Loss: 0.0774\n",
      "Epoch   6 Batch   10/269 - Train Accuracy: 0.9516, Validation Accuracy: 0.9528, Loss: 0.0663\n",
      "Epoch   6 Batch   20/269 - Train Accuracy: 0.9444, Validation Accuracy: 0.9504, Loss: 0.0730\n",
      "Epoch   6 Batch   30/269 - Train Accuracy: 0.9449, Validation Accuracy: 0.9411, Loss: 0.0713\n",
      "Epoch   6 Batch   40/269 - Train Accuracy: 0.9302, Validation Accuracy: 0.9491, Loss: 0.0753\n",
      "Epoch   6 Batch   50/269 - Train Accuracy: 0.9249, Validation Accuracy: 0.9541, Loss: 0.0884\n",
      "Epoch   6 Batch   60/269 - Train Accuracy: 0.9459, Validation Accuracy: 0.9550, Loss: 0.0625\n",
      "Epoch   6 Batch   70/269 - Train Accuracy: 0.9581, Validation Accuracy: 0.9498, Loss: 0.0719\n",
      "Epoch   6 Batch   80/269 - Train Accuracy: 0.9473, Validation Accuracy: 0.9529, Loss: 0.0712\n",
      "Epoch   6 Batch   90/269 - Train Accuracy: 0.9425, Validation Accuracy: 0.9477, Loss: 0.0679\n",
      "Epoch   6 Batch  100/269 - Train Accuracy: 0.9449, Validation Accuracy: 0.9500, Loss: 0.0721\n",
      "Epoch   6 Batch  110/269 - Train Accuracy: 0.9416, Validation Accuracy: 0.9412, Loss: 0.0679\n",
      "Epoch   6 Batch  120/269 - Train Accuracy: 0.9505, Validation Accuracy: 0.9571, Loss: 0.0691\n",
      "Epoch   6 Batch  130/269 - Train Accuracy: 0.9508, Validation Accuracy: 0.9504, Loss: 0.0723\n",
      "Epoch   6 Batch  140/269 - Train Accuracy: 0.9429, Validation Accuracy: 0.9521, Loss: 0.0757\n",
      "Epoch   6 Batch  150/269 - Train Accuracy: 0.9522, Validation Accuracy: 0.9472, Loss: 0.0716\n",
      "Epoch   6 Batch  160/269 - Train Accuracy: 0.9521, Validation Accuracy: 0.9566, Loss: 0.0729\n",
      "Epoch   6 Batch  170/269 - Train Accuracy: 0.9418, Validation Accuracy: 0.9510, Loss: 0.0665\n",
      "Epoch   6 Batch  180/269 - Train Accuracy: 0.9571, Validation Accuracy: 0.9504, Loss: 0.0641\n",
      "Epoch   6 Batch  190/269 - Train Accuracy: 0.9505, Validation Accuracy: 0.9503, Loss: 0.0638\n",
      "Epoch   6 Batch  200/269 - Train Accuracy: 0.9530, Validation Accuracy: 0.9545, Loss: 0.0641\n",
      "Epoch   6 Batch  210/269 - Train Accuracy: 0.9422, Validation Accuracy: 0.9459, Loss: 0.0579\n",
      "Epoch   6 Batch  220/269 - Train Accuracy: 0.9449, Validation Accuracy: 0.9506, Loss: 0.0676\n"
     ]
    },
    {
     "name": "stdout",
     "output_type": "stream",
     "text": [
      "Epoch   6 Batch  230/269 - Train Accuracy: 0.9594, Validation Accuracy: 0.9616, Loss: 0.0657\n",
      "Epoch   6 Batch  240/269 - Train Accuracy: 0.9625, Validation Accuracy: 0.9532, Loss: 0.0597\n",
      "Epoch   6 Batch  250/269 - Train Accuracy: 0.9520, Validation Accuracy: 0.9607, Loss: 0.0670\n",
      "Epoch   6 Batch  260/269 - Train Accuracy: 0.9527, Validation Accuracy: 0.9607, Loss: 0.0672\n",
      "Epoch   7 Batch   10/269 - Train Accuracy: 0.9582, Validation Accuracy: 0.9498, Loss: 0.0526\n",
      "Epoch   7 Batch   20/269 - Train Accuracy: 0.9546, Validation Accuracy: 0.9515, Loss: 0.0649\n",
      "Epoch   7 Batch   30/269 - Train Accuracy: 0.9534, Validation Accuracy: 0.9539, Loss: 0.0632\n",
      "Epoch   7 Batch   40/269 - Train Accuracy: 0.9397, Validation Accuracy: 0.9451, Loss: 0.0737\n",
      "Epoch   7 Batch   50/269 - Train Accuracy: 0.9426, Validation Accuracy: 0.9487, Loss: 0.0772\n",
      "Epoch   7 Batch   60/269 - Train Accuracy: 0.9564, Validation Accuracy: 0.9603, Loss: 0.0613\n",
      "Epoch   7 Batch   70/269 - Train Accuracy: 0.9619, Validation Accuracy: 0.9493, Loss: 0.0643\n",
      "Epoch   7 Batch   80/269 - Train Accuracy: 0.9555, Validation Accuracy: 0.9510, Loss: 0.0645\n",
      "Epoch   7 Batch   90/269 - Train Accuracy: 0.9572, Validation Accuracy: 0.9565, Loss: 0.0700\n",
      "Epoch   7 Batch  100/269 - Train Accuracy: 0.9579, Validation Accuracy: 0.9598, Loss: 0.0690\n",
      "Epoch   7 Batch  110/269 - Train Accuracy: 0.9545, Validation Accuracy: 0.9550, Loss: 0.0577\n",
      "Epoch   7 Batch  120/269 - Train Accuracy: 0.9350, Validation Accuracy: 0.9451, Loss: 0.0645\n",
      "Epoch   7 Batch  130/269 - Train Accuracy: 0.9523, Validation Accuracy: 0.9520, Loss: 0.0641\n",
      "Epoch   7 Batch  140/269 - Train Accuracy: 0.9581, Validation Accuracy: 0.9576, Loss: 0.0670\n",
      "Epoch   7 Batch  150/269 - Train Accuracy: 0.9535, Validation Accuracy: 0.9550, Loss: 0.0690\n",
      "Epoch   7 Batch  160/269 - Train Accuracy: 0.9579, Validation Accuracy: 0.9595, Loss: 0.0595\n",
      "Epoch   7 Batch  170/269 - Train Accuracy: 0.9494, Validation Accuracy: 0.9572, Loss: 0.0628\n",
      "Epoch   7 Batch  180/269 - Train Accuracy: 0.9635, Validation Accuracy: 0.9515, Loss: 0.0541\n",
      "Epoch   7 Batch  190/269 - Train Accuracy: 0.9608, Validation Accuracy: 0.9526, Loss: 0.0614\n",
      "Epoch   7 Batch  200/269 - Train Accuracy: 0.9535, Validation Accuracy: 0.9566, Loss: 0.0539\n",
      "Epoch   7 Batch  210/269 - Train Accuracy: 0.9474, Validation Accuracy: 0.9596, Loss: 0.0584\n",
      "Epoch   7 Batch  220/269 - Train Accuracy: 0.9480, Validation Accuracy: 0.9616, Loss: 0.0646\n",
      "Epoch   7 Batch  230/269 - Train Accuracy: 0.9552, Validation Accuracy: 0.9579, Loss: 0.0654\n",
      "Epoch   7 Batch  240/269 - Train Accuracy: 0.9608, Validation Accuracy: 0.9657, Loss: 0.0607\n",
      "Epoch   7 Batch  250/269 - Train Accuracy: 0.9565, Validation Accuracy: 0.9591, Loss: 0.0638\n",
      "Epoch   7 Batch  260/269 - Train Accuracy: 0.9604, Validation Accuracy: 0.9592, Loss: 0.0597\n",
      "Epoch   8 Batch   10/269 - Train Accuracy: 0.9498, Validation Accuracy: 0.9595, Loss: 0.0525\n",
      "Epoch   8 Batch   20/269 - Train Accuracy: 0.9622, Validation Accuracy: 0.9617, Loss: 0.0559\n",
      "Epoch   8 Batch   30/269 - Train Accuracy: 0.9534, Validation Accuracy: 0.9525, Loss: 0.0558\n",
      "Epoch   8 Batch   40/269 - Train Accuracy: 0.9454, Validation Accuracy: 0.9506, Loss: 0.0659\n",
      "Epoch   8 Batch   50/269 - Train Accuracy: 0.9394, Validation Accuracy: 0.9524, Loss: 0.0778\n",
      "Epoch   8 Batch   60/269 - Train Accuracy: 0.9561, Validation Accuracy: 0.9517, Loss: 0.0591\n",
      "Epoch   8 Batch   70/269 - Train Accuracy: 0.9636, Validation Accuracy: 0.9571, Loss: 0.0627\n",
      "Epoch   8 Batch   80/269 - Train Accuracy: 0.9508, Validation Accuracy: 0.9561, Loss: 0.0612\n",
      "Epoch   8 Batch   90/269 - Train Accuracy: 0.9495, Validation Accuracy: 0.9555, Loss: 0.0649\n",
      "Epoch   8 Batch  100/269 - Train Accuracy: 0.9552, Validation Accuracy: 0.9549, Loss: 0.0687\n",
      "Epoch   8 Batch  110/269 - Train Accuracy: 0.9607, Validation Accuracy: 0.9529, Loss: 0.0614\n",
      "Epoch   8 Batch  120/269 - Train Accuracy: 0.9555, Validation Accuracy: 0.9604, Loss: 0.0664\n",
      "Epoch   8 Batch  130/269 - Train Accuracy: 0.9551, Validation Accuracy: 0.9583, Loss: 0.0629\n",
      "Epoch   8 Batch  140/269 - Train Accuracy: 0.9578, Validation Accuracy: 0.9563, Loss: 0.0638\n",
      "Epoch   8 Batch  150/269 - Train Accuracy: 0.9616, Validation Accuracy: 0.9553, Loss: 0.0619\n",
      "Epoch   8 Batch  160/269 - Train Accuracy: 0.9596, Validation Accuracy: 0.9613, Loss: 0.0617\n",
      "Epoch   8 Batch  170/269 - Train Accuracy: 0.9540, Validation Accuracy: 0.9610, Loss: 0.0531\n",
      "Epoch   8 Batch  180/269 - Train Accuracy: 0.9595, Validation Accuracy: 0.9576, Loss: 0.0537\n",
      "Epoch   8 Batch  190/269 - Train Accuracy: 0.9616, Validation Accuracy: 0.9575, Loss: 0.0570\n",
      "Epoch   8 Batch  200/269 - Train Accuracy: 0.9558, Validation Accuracy: 0.9627, Loss: 0.0539\n",
      "Epoch   8 Batch  210/269 - Train Accuracy: 0.9486, Validation Accuracy: 0.9600, Loss: 0.0521\n",
      "Epoch   8 Batch  220/269 - Train Accuracy: 0.9553, Validation Accuracy: 0.9539, Loss: 0.0602\n",
      "Epoch   8 Batch  230/269 - Train Accuracy: 0.9577, Validation Accuracy: 0.9593, Loss: 0.0587\n",
      "Epoch   8 Batch  240/269 - Train Accuracy: 0.9659, Validation Accuracy: 0.9588, Loss: 0.0560\n",
      "Epoch   8 Batch  250/269 - Train Accuracy: 0.9582, Validation Accuracy: 0.9551, Loss: 0.0555\n",
      "Epoch   8 Batch  260/269 - Train Accuracy: 0.9600, Validation Accuracy: 0.9508, Loss: 0.0561\n",
      "Epoch   9 Batch   10/269 - Train Accuracy: 0.9630, Validation Accuracy: 0.9575, Loss: 0.0460\n",
      "Epoch   9 Batch   20/269 - Train Accuracy: 0.9547, Validation Accuracy: 0.9559, Loss: 0.0517\n",
      "Epoch   9 Batch   30/269 - Train Accuracy: 0.9627, Validation Accuracy: 0.9598, Loss: 0.0585\n",
      "Epoch   9 Batch   40/269 - Train Accuracy: 0.9575, Validation Accuracy: 0.9570, Loss: 0.0627\n",
      "Epoch   9 Batch   50/269 - Train Accuracy: 0.9388, Validation Accuracy: 0.9525, Loss: 0.0667\n",
      "Epoch   9 Batch   60/269 - Train Accuracy: 0.9618, Validation Accuracy: 0.9601, Loss: 0.0559\n",
      "Epoch   9 Batch   70/269 - Train Accuracy: 0.9594, Validation Accuracy: 0.9564, Loss: 0.0602\n",
      "Epoch   9 Batch   80/269 - Train Accuracy: 0.9564, Validation Accuracy: 0.9693, Loss: 0.0600\n",
      "Epoch   9 Batch   90/269 - Train Accuracy: 0.9577, Validation Accuracy: 0.9591, Loss: 0.0572\n",
      "Epoch   9 Batch  100/269 - Train Accuracy: 0.9589, Validation Accuracy: 0.9548, Loss: 0.0675\n",
      "Epoch   9 Batch  110/269 - Train Accuracy: 0.9646, Validation Accuracy: 0.9460, Loss: 0.0500\n",
      "Epoch   9 Batch  120/269 - Train Accuracy: 0.9489, Validation Accuracy: 0.9468, Loss: 0.0546\n",
      "Epoch   9 Batch  130/269 - Train Accuracy: 0.9605, Validation Accuracy: 0.9584, Loss: 0.0579\n",
      "Epoch   9 Batch  140/269 - Train Accuracy: 0.9602, Validation Accuracy: 0.9657, Loss: 0.0635\n",
      "Epoch   9 Batch  150/269 - Train Accuracy: 0.9592, Validation Accuracy: 0.9471, Loss: 0.0659\n",
      "Epoch   9 Batch  160/269 - Train Accuracy: 0.9638, Validation Accuracy: 0.9647, Loss: 0.0561\n",
      "Epoch   9 Batch  170/269 - Train Accuracy: 0.9553, Validation Accuracy: 0.9618, Loss: 0.0519\n",
      "Epoch   9 Batch  180/269 - Train Accuracy: 0.9594, Validation Accuracy: 0.9596, Loss: 0.0539\n",
      "Epoch   9 Batch  190/269 - Train Accuracy: 0.9626, Validation Accuracy: 0.9630, Loss: 0.0569\n",
      "Epoch   9 Batch  200/269 - Train Accuracy: 0.9568, Validation Accuracy: 0.9528, Loss: 0.0537\n",
      "Epoch   9 Batch  210/269 - Train Accuracy: 0.9542, Validation Accuracy: 0.9603, Loss: 0.0541\n",
      "Epoch   9 Batch  220/269 - Train Accuracy: 0.9533, Validation Accuracy: 0.9662, Loss: 0.0527\n",
      "Epoch   9 Batch  230/269 - Train Accuracy: 0.9634, Validation Accuracy: 0.9624, Loss: 0.0550\n",
      "Epoch   9 Batch  240/269 - Train Accuracy: 0.9644, Validation Accuracy: 0.9644, Loss: 0.0547\n",
      "Epoch   9 Batch  250/269 - Train Accuracy: 0.9604, Validation Accuracy: 0.9569, Loss: 0.0597\n",
      "Epoch   9 Batch  260/269 - Train Accuracy: 0.9610, Validation Accuracy: 0.9592, Loss: 0.0530\n",
      "Model Trained and Saved\n"
     ]
    }
   ],
   "source": [
    "\"\"\"\n",
    "DON'T MODIFY ANYTHING IN THIS CELL\n",
    "\"\"\"\n",
    "def get_accuracy(target, logits):\n",
    "    \"\"\"\n",
    "    Calculate accuracy\n",
    "    \"\"\"\n",
    "    max_seq = max(target.shape[1], logits.shape[1])\n",
    "    if max_seq - target.shape[1]:\n",
    "        target = np.pad(\n",
    "            target,\n",
    "            [(0,0),(0,max_seq - target.shape[1])],\n",
    "            'constant')\n",
    "    if max_seq - logits.shape[1]:\n",
    "        logits = np.pad(\n",
    "            logits,\n",
    "            [(0,0),(0,max_seq - logits.shape[1])],\n",
    "            'constant')\n",
    "\n",
    "    return np.mean(np.equal(target, logits))\n",
    "\n",
    "# Split data to training and validation sets\n",
    "train_source = source_int_text[batch_size:]\n",
    "train_target = target_int_text[batch_size:]\n",
    "valid_source = source_int_text[:batch_size]\n",
    "valid_target = target_int_text[:batch_size]\n",
    "(valid_sources_batch, valid_targets_batch, valid_sources_lengths, valid_targets_lengths ) = next(get_batches(valid_source,\n",
    "                                                                                                             valid_target,\n",
    "                                                                                                             batch_size,\n",
    "                                                                                                             source_vocab_to_int['<PAD>'],\n",
    "                                                                                                             target_vocab_to_int['<PAD>']))                                                                                                  \n",
    "with tf.Session(graph=train_graph) as sess:\n",
    "    sess.run(tf.global_variables_initializer())\n",
    "\n",
    "    for epoch_i in range(epochs):\n",
    "        for batch_i, (source_batch, target_batch, sources_lengths, targets_lengths) in enumerate(\n",
    "                get_batches(train_source, train_target, batch_size,\n",
    "                            source_vocab_to_int['<PAD>'],\n",
    "                            target_vocab_to_int['<PAD>'])):\n",
    "\n",
    "            _, loss = sess.run(\n",
    "                [train_op, cost],\n",
    "                {input_data: source_batch,\n",
    "                 targets: target_batch,\n",
    "                 lr: learning_rate,\n",
    "                 target_sequence_length: targets_lengths,\n",
    "                 source_sequence_length: sources_lengths,\n",
    "                 keep_prob: keep_probability})\n",
    "\n",
    "\n",
    "            if batch_i % display_step == 0 and batch_i > 0:\n",
    "\n",
    "\n",
    "                batch_train_logits = sess.run(\n",
    "                    inference_logits,\n",
    "                    {input_data: source_batch,\n",
    "                     source_sequence_length: sources_lengths,\n",
    "                     target_sequence_length: targets_lengths,\n",
    "                     keep_prob: 1.0})\n",
    "\n",
    "\n",
    "                batch_valid_logits = sess.run(\n",
    "                    inference_logits,\n",
    "                    {input_data: valid_sources_batch,\n",
    "                     source_sequence_length: valid_sources_lengths,\n",
    "                     target_sequence_length: valid_targets_lengths,\n",
    "                     keep_prob: 1.0})\n",
    "\n",
    "                train_acc = get_accuracy(target_batch, batch_train_logits)\n",
    "\n",
    "                valid_acc = get_accuracy(valid_targets_batch, batch_valid_logits)\n",
    "\n",
    "                print('Epoch {:>3} Batch {:>4}/{} - Train Accuracy: {:>6.4f}, Validation Accuracy: {:>6.4f}, Loss: {:>6.4f}'\n",
    "                      .format(epoch_i, batch_i, len(source_int_text) // batch_size, train_acc, valid_acc, loss))\n",
    "\n",
    "    # Save Model\n",
    "    saver = tf.train.Saver()\n",
    "    saver.save(sess, save_path)\n",
    "    print('Model Trained and Saved')"
   ]
  },
  {
   "cell_type": "markdown",
   "metadata": {},
   "source": [
    "### Save Parameters\n",
    "Save the `batch_size` and `save_path` parameters for inference."
   ]
  },
  {
   "cell_type": "code",
   "execution_count": 34,
   "metadata": {
    "collapsed": true
   },
   "outputs": [],
   "source": [
    "\"\"\"\n",
    "DON'T MODIFY ANYTHING IN THIS CELL\n",
    "\"\"\"\n",
    "# Save parameters for checkpoint\n",
    "helper.save_params(save_path)"
   ]
  },
  {
   "cell_type": "markdown",
   "metadata": {},
   "source": [
    "# Checkpoint"
   ]
  },
  {
   "cell_type": "code",
   "execution_count": 35,
   "metadata": {
    "collapsed": true
   },
   "outputs": [],
   "source": [
    "\"\"\"\n",
    "DON'T MODIFY ANYTHING IN THIS CELL\n",
    "\"\"\"\n",
    "import tensorflow as tf\n",
    "import numpy as np\n",
    "import helper\n",
    "import problem_unittests as tests\n",
    "\n",
    "_, (source_vocab_to_int, target_vocab_to_int), (source_int_to_vocab, target_int_to_vocab) = helper.load_preprocess()\n",
    "load_path = helper.load_params()"
   ]
  },
  {
   "cell_type": "markdown",
   "metadata": {},
   "source": [
    "## Sentence to Sequence\n",
    "To feed a sentence into the model for translation, you first need to preprocess it.  Implement the function `sentence_to_seq()` to preprocess new sentences.\n",
    "\n",
    "- Convert the sentence to lowercase\n",
    "- Convert words into ids using `vocab_to_int`\n",
    " - Convert words not in the vocabulary, to the `<UNK>` word id."
   ]
  },
  {
   "cell_type": "code",
   "execution_count": 36,
   "metadata": {},
   "outputs": [
    {
     "name": "stdout",
     "output_type": "stream",
     "text": [
      "Tests Passed\n"
     ]
    }
   ],
   "source": [
    "def sentence_to_seq(sentence, vocab_to_int):\n",
    "    \"\"\"\n",
    "    Convert a sentence to a sequence of ids\n",
    "    :param sentence: String\n",
    "    :param vocab_to_int: Dictionary to go from the words to an id\n",
    "    :return: List of word ids\n",
    "    \"\"\"\n",
    "    # TODO: Implement Function\n",
    "    words = [(word if word in vocab_to_int else '<UNK>') for word in sentence.lower().split()]\n",
    "    word_ids = [vocab_to_int[word] for word in words]\n",
    "    return word_ids\n",
    "\n",
    "\n",
    "\"\"\"\n",
    "DON'T MODIFY ANYTHING IN THIS CELL THAT IS BELOW THIS LINE\n",
    "\"\"\"\n",
    "tests.test_sentence_to_seq(sentence_to_seq)"
   ]
  },
  {
   "cell_type": "markdown",
   "metadata": {},
   "source": [
    "## Translate\n",
    "This will translate `translate_sentence` from English to French."
   ]
  },
  {
   "cell_type": "code",
   "execution_count": 37,
   "metadata": {},
   "outputs": [
    {
     "name": "stdout",
     "output_type": "stream",
     "text": [
      "INFO:tensorflow:Restoring parameters from checkpoints/dev\n",
      "Input\n",
      "  Word Ids:      [26, 217, 169, 126, 127, 5, 76]\n",
      "  English Words: ['he', 'saw', 'a', 'old', 'yellow', 'truck', '.']\n",
      "\n",
      "Prediction\n",
      "  Word Ids:      [21, 69, 250, 46, 24, 197, 357, 302, 1]\n",
      "  French Words: il a vu le vieux camion jaune . <EOS>\n"
     ]
    }
   ],
   "source": [
    "translate_sentence = 'he saw a old yellow truck .'\n",
    "\n",
    "\n",
    "\"\"\"\n",
    "DON'T MODIFY ANYTHING IN THIS CELL\n",
    "\"\"\"\n",
    "translate_sentence = sentence_to_seq(translate_sentence, source_vocab_to_int)\n",
    "\n",
    "loaded_graph = tf.Graph()\n",
    "with tf.Session(graph=loaded_graph) as sess:\n",
    "    # Load saved model\n",
    "    loader = tf.train.import_meta_graph(load_path + '.meta')\n",
    "    loader.restore(sess, load_path)\n",
    "\n",
    "    input_data = loaded_graph.get_tensor_by_name('input:0')\n",
    "    logits = loaded_graph.get_tensor_by_name('predictions:0')\n",
    "    target_sequence_length = loaded_graph.get_tensor_by_name('target_sequence_length:0')\n",
    "    source_sequence_length = loaded_graph.get_tensor_by_name('source_sequence_length:0')\n",
    "    keep_prob = loaded_graph.get_tensor_by_name('keep_prob:0')\n",
    "\n",
    "    translate_logits = sess.run(logits, {input_data: [translate_sentence]*batch_size,\n",
    "                                         target_sequence_length: [len(translate_sentence)*2]*batch_size,\n",
    "                                         source_sequence_length: [len(translate_sentence)]*batch_size,\n",
    "                                         keep_prob: 1.0})[0]\n",
    "\n",
    "print('Input')\n",
    "print('  Word Ids:      {}'.format([i for i in translate_sentence]))\n",
    "print('  English Words: {}'.format([source_int_to_vocab[i] for i in translate_sentence]))\n",
    "\n",
    "print('\\nPrediction')\n",
    "print('  Word Ids:      {}'.format([i for i in translate_logits]))\n",
    "print('  French Words: {}'.format(\" \".join([target_int_to_vocab[i] for i in translate_logits])))\n"
   ]
  },
  {
   "cell_type": "markdown",
   "metadata": {},
   "source": [
    "## Imperfect Translation\n",
    "You might notice that some sentences translate better than others.  Since the dataset you're using only has a vocabulary of 227 English words of the thousands that you use, you're only going to see good results using these words.  For this project, you don't need a perfect translation. However, if you want to create a better translation model, you'll need better data.\n",
    "\n",
    "You can train on the [WMT10 French-English corpus](http://www.statmt.org/wmt10/training-giga-fren.tar).  This dataset has more vocabulary and richer in topics discussed.  However, this will take you days to train, so make sure you've a GPU and the neural network is performing well on dataset we provided.  Just make sure you play with the WMT10 corpus after you've submitted this project.\n",
    "## Submitting This Project\n",
    "When submitting this project, make sure to run all the cells before saving the notebook. Save the notebook file as \"dlnd_language_translation.ipynb\" and save it as a HTML file under \"File\" -> \"Download as\". Include the \"helper.py\" and \"problem_unittests.py\" files in your submission."
   ]
  }
 ],
 "metadata": {
  "anaconda-cloud": {},
  "kernelspec": {
   "display_name": "Python 3",
   "language": "python",
   "name": "python3"
  },
  "language_info": {
   "codemirror_mode": {
    "name": "ipython",
    "version": 3
   },
   "file_extension": ".py",
   "mimetype": "text/x-python",
   "name": "python",
   "nbconvert_exporter": "python",
   "pygments_lexer": "ipython3",
   "version": "3.5.4"
  }
 },
 "nbformat": 4,
 "nbformat_minor": 1
}
