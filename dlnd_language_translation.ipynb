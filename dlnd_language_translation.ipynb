{
 "cells": [
  {
   "cell_type": "markdown",
   "metadata": {
    "collapsed": true
   },
   "source": [
    "# Language Translation\n",
    "In this project, you’re going to take a peek into the realm of neural network machine translation.  You’ll be training a sequence to sequence model on a dataset of English and French sentences that can translate new sentences from English to French.\n",
    "## Get the Data\n",
    "Since translating the whole language of English to French will take lots of time to train, we have provided you with a small portion of the English corpus."
   ]
  },
  {
   "cell_type": "code",
   "execution_count": 1,
   "metadata": {
    "collapsed": true
   },
   "outputs": [],
   "source": [
    "\"\"\"\n",
    "DON'T MODIFY ANYTHING IN THIS CELL\n",
    "\"\"\"\n",
    "import helper\n",
    "import problem_unittests as tests\n",
    "\n",
    "source_path = 'data/small_vocab_en'\n",
    "target_path = 'data/small_vocab_fr'\n",
    "source_text = helper.load_data(source_path)\n",
    "target_text = helper.load_data(target_path)"
   ]
  },
  {
   "cell_type": "markdown",
   "metadata": {},
   "source": [
    "## Explore the Data\n",
    "Play around with view_sentence_range to view different parts of the data."
   ]
  },
  {
   "cell_type": "code",
   "execution_count": 2,
   "metadata": {},
   "outputs": [
    {
     "name": "stdout",
     "output_type": "stream",
     "text": [
      "Dataset Stats\n",
      "Roughly the number of unique words: 227\n",
      "Number of sentences: 137861\n",
      "Average number of words in a sentence: 13.225277634719028\n",
      "\n",
      "English sentences 0 to 10:\n",
      "new jersey is sometimes quiet during autumn , and it is snowy in april .\n",
      "the united states is usually chilly during july , and it is usually freezing in november .\n",
      "california is usually quiet during march , and it is usually hot in june .\n",
      "the united states is sometimes mild during june , and it is cold in september .\n",
      "your least liked fruit is the grape , but my least liked is the apple .\n",
      "his favorite fruit is the orange , but my favorite is the grape .\n",
      "paris is relaxing during december , but it is usually chilly in july .\n",
      "new jersey is busy during spring , and it is never hot in march .\n",
      "our least liked fruit is the lemon , but my least liked is the grape .\n",
      "the united states is sometimes busy during january , and it is sometimes warm in november .\n",
      "\n",
      "French sentences 0 to 10:\n",
      "new jersey est parfois calme pendant l' automne , et il est neigeux en avril .\n",
      "les états-unis est généralement froid en juillet , et il gèle habituellement en novembre .\n",
      "california est généralement calme en mars , et il est généralement chaud en juin .\n",
      "les états-unis est parfois légère en juin , et il fait froid en septembre .\n",
      "votre moins aimé fruit est le raisin , mais mon moins aimé est la pomme .\n",
      "son fruit préféré est l'orange , mais mon préféré est le raisin .\n",
      "paris est relaxant en décembre , mais il est généralement froid en juillet .\n",
      "new jersey est occupé au printemps , et il est jamais chaude en mars .\n",
      "notre fruit est moins aimé le citron , mais mon moins aimé est le raisin .\n",
      "les états-unis est parfois occupé en janvier , et il est parfois chaud en novembre .\n"
     ]
    }
   ],
   "source": [
    "view_sentence_range = (0, 10)\n",
    "\n",
    "\"\"\"\n",
    "DON'T MODIFY ANYTHING IN THIS CELL\n",
    "\"\"\"\n",
    "import numpy as np\n",
    "\n",
    "print('Dataset Stats')\n",
    "print('Roughly the number of unique words: {}'.format(len({word: None for word in source_text.split()})))\n",
    "\n",
    "sentences = source_text.split('\\n')\n",
    "word_counts = [len(sentence.split()) for sentence in sentences]\n",
    "print('Number of sentences: {}'.format(len(sentences)))\n",
    "print('Average number of words in a sentence: {}'.format(np.average(word_counts)))\n",
    "\n",
    "print()\n",
    "print('English sentences {} to {}:'.format(*view_sentence_range))\n",
    "print('\\n'.join(source_text.split('\\n')[view_sentence_range[0]:view_sentence_range[1]]))\n",
    "print()\n",
    "print('French sentences {} to {}:'.format(*view_sentence_range))\n",
    "print('\\n'.join(target_text.split('\\n')[view_sentence_range[0]:view_sentence_range[1]]))"
   ]
  },
  {
   "cell_type": "markdown",
   "metadata": {},
   "source": [
    "## Implement Preprocessing Function\n",
    "### Text to Word Ids\n",
    "As you did with other RNNs, you must turn the text into a number so the computer can understand it. In the function `text_to_ids()`, you'll turn `source_text` and `target_text` from words to ids.  However, you need to add the `<EOS>` word id at the end of `target_text`.  This will help the neural network predict when the sentence should end.\n",
    "\n",
    "You can get the `<EOS>` word id by doing:\n",
    "```python\n",
    "target_vocab_to_int['<EOS>']\n",
    "```\n",
    "You can get other word ids using `source_vocab_to_int` and `target_vocab_to_int`."
   ]
  },
  {
   "cell_type": "code",
   "execution_count": 3,
   "metadata": {},
   "outputs": [
    {
     "name": "stdout",
     "output_type": "stream",
     "text": [
      "Tests Passed\n"
     ]
    }
   ],
   "source": [
    "def text_to_ids(source_text, target_text, source_vocab_to_int, target_vocab_to_int):\n",
    "    \"\"\"\n",
    "    Convert source and target text to proper word ids\n",
    "    :param source_text: String that contains all the source text.\n",
    "    :param target_text: String that contains all the target text.\n",
    "    :param source_vocab_to_int: Dictionary to go from the source words to an id\n",
    "    :param target_vocab_to_int: Dictionary to go from the target words to an id\n",
    "    :return: A tuple of lists (source_id_text, target_id_text)\n",
    "    \"\"\"\n",
    "    # TODO: Implement Function\n",
    "    source_sentences = [sentence.split() for sentence in source_text.splitlines()]\n",
    "    source_id_text = [[source_vocab_to_int[word] for word in words] for words in source_sentences]\n",
    "    target_sentences = [sentence.split() + ['<EOS>'] for sentence in target_text.splitlines()]\n",
    "    target_id_text = [[target_vocab_to_int[word] for word in words] for words in target_sentences]\n",
    "    return source_id_text, target_id_text\n",
    "\n",
    "\"\"\"\n",
    "DON'T MODIFY ANYTHING IN THIS CELL THAT IS BELOW THIS LINE\n",
    "\"\"\"\n",
    "tests.test_text_to_ids(text_to_ids)"
   ]
  },
  {
   "cell_type": "markdown",
   "metadata": {},
   "source": [
    "### Preprocess all the data and save it\n",
    "Running the code cell below will preprocess all the data and save it to file."
   ]
  },
  {
   "cell_type": "code",
   "execution_count": 4,
   "metadata": {
    "collapsed": true
   },
   "outputs": [],
   "source": [
    "\"\"\"\n",
    "DON'T MODIFY ANYTHING IN THIS CELL\n",
    "\"\"\"\n",
    "helper.preprocess_and_save_data(source_path, target_path, text_to_ids)"
   ]
  },
  {
   "cell_type": "markdown",
   "metadata": {},
   "source": [
    "# Check Point\n",
    "This is your first checkpoint. If you ever decide to come back to this notebook or have to restart the notebook, you can start from here. The preprocessed data has been saved to disk."
   ]
  },
  {
   "cell_type": "code",
   "execution_count": 5,
   "metadata": {
    "collapsed": true
   },
   "outputs": [],
   "source": [
    "\"\"\"\n",
    "DON'T MODIFY ANYTHING IN THIS CELL\n",
    "\"\"\"\n",
    "import numpy as np\n",
    "import helper\n",
    "import problem_unittests as tests\n",
    "\n",
    "(source_int_text, target_int_text), (source_vocab_to_int, target_vocab_to_int), _ = helper.load_preprocess()"
   ]
  },
  {
   "cell_type": "markdown",
   "metadata": {},
   "source": [
    "### Check the Version of TensorFlow and Access to GPU\n",
    "This will check to make sure you have the correct version of TensorFlow and access to a GPU"
   ]
  },
  {
   "cell_type": "code",
   "execution_count": 6,
   "metadata": {},
   "outputs": [
    {
     "name": "stdout",
     "output_type": "stream",
     "text": [
      "TensorFlow Version: 1.2.1\n",
      "Default GPU Device: /gpu:0\n"
     ]
    }
   ],
   "source": [
    "\"\"\"\n",
    "DON'T MODIFY ANYTHING IN THIS CELL\n",
    "\"\"\"\n",
    "from distutils.version import LooseVersion\n",
    "import warnings\n",
    "import tensorflow as tf\n",
    "from tensorflow.python.layers.core import Dense\n",
    "\n",
    "# Check TensorFlow Version\n",
    "assert LooseVersion(tf.__version__) >= LooseVersion('1.1'), 'Please use TensorFlow version 1.1 or newer'\n",
    "print('TensorFlow Version: {}'.format(tf.__version__))\n",
    "\n",
    "# Check for a GPU\n",
    "if not tf.test.gpu_device_name():\n",
    "    warnings.warn('No GPU found. Please use a GPU to train your neural network.')\n",
    "else:\n",
    "    print('Default GPU Device: {}'.format(tf.test.gpu_device_name()))"
   ]
  },
  {
   "cell_type": "markdown",
   "metadata": {},
   "source": [
    "## Build the Neural Network\n",
    "You'll build the components necessary to build a Sequence-to-Sequence model by implementing the following functions below:\n",
    "- `model_inputs`\n",
    "- `process_decoder_input`\n",
    "- `encoding_layer`\n",
    "- `decoding_layer_train`\n",
    "- `decoding_layer_infer`\n",
    "- `decoding_layer`\n",
    "- `seq2seq_model`\n",
    "\n",
    "### Input\n",
    "Implement the `model_inputs()` function to create TF Placeholders for the Neural Network. It should create the following placeholders:\n",
    "\n",
    "- Input text placeholder named \"input\" using the TF Placeholder name parameter with rank 2.\n",
    "- Targets placeholder with rank 2.\n",
    "- Learning rate placeholder with rank 0.\n",
    "- Keep probability placeholder named \"keep_prob\" using the TF Placeholder name parameter with rank 0.\n",
    "- Target sequence length placeholder named \"target_sequence_length\" with rank 1\n",
    "- Max target sequence length tensor named \"max_target_len\" getting its value from applying tf.reduce_max on the target_sequence_length placeholder. Rank 0.\n",
    "- Source sequence length placeholder named \"source_sequence_length\" with rank 1\n",
    "\n",
    "Return the placeholders in the following the tuple (input, targets, learning rate, keep probability, target sequence length, max target sequence length, source sequence length)"
   ]
  },
  {
   "cell_type": "code",
   "execution_count": 7,
   "metadata": {},
   "outputs": [
    {
     "name": "stdout",
     "output_type": "stream",
     "text": [
      "ERROR:tensorflow:==================================\n",
      "Object was never used (type <class 'tensorflow.python.framework.ops.Operation'>):\n",
      "<tf.Operation 'assert_rank_2/Assert/Assert' type=Assert>\n",
      "If you want to mark it as used call its \"mark_used()\" method.\n",
      "It was originally created here:\n",
      "['File \"/home/carnd/anaconda3/envs/dlnd_project4/lib/python3.5/runpy.py\", line 193, in _run_module_as_main\\n    \"__main__\", mod_spec)', 'File \"/home/carnd/anaconda3/envs/dlnd_project4/lib/python3.5/runpy.py\", line 85, in _run_code\\n    exec(code, run_globals)', 'File \"/home/carnd/anaconda3/envs/dlnd_project4/lib/python3.5/site-packages/ipykernel_launcher.py\", line 16, in <module>\\n    app.launch_new_instance()', 'File \"/home/carnd/anaconda3/envs/dlnd_project4/lib/python3.5/site-packages/traitlets/config/application.py\", line 658, in launch_instance\\n    app.start()', 'File \"/home/carnd/anaconda3/envs/dlnd_project4/lib/python3.5/site-packages/ipykernel/kernelapp.py\", line 477, in start\\n    ioloop.IOLoop.instance().start()', 'File \"/home/carnd/anaconda3/envs/dlnd_project4/lib/python3.5/site-packages/zmq/eventloop/ioloop.py\", line 177, in start\\n    super(ZMQIOLoop, self).start()', 'File \"/home/carnd/anaconda3/envs/dlnd_project4/lib/python3.5/site-packages/tornado/ioloop.py\", line 888, in start\\n    handler_func(fd_obj, events)', 'File \"/home/carnd/anaconda3/envs/dlnd_project4/lib/python3.5/site-packages/tornado/stack_context.py\", line 277, in null_wrapper\\n    return fn(*args, **kwargs)', 'File \"/home/carnd/anaconda3/envs/dlnd_project4/lib/python3.5/site-packages/zmq/eventloop/zmqstream.py\", line 440, in _handle_events\\n    self._handle_recv()', 'File \"/home/carnd/anaconda3/envs/dlnd_project4/lib/python3.5/site-packages/zmq/eventloop/zmqstream.py\", line 472, in _handle_recv\\n    self._run_callback(callback, msg)', 'File \"/home/carnd/anaconda3/envs/dlnd_project4/lib/python3.5/site-packages/zmq/eventloop/zmqstream.py\", line 414, in _run_callback\\n    callback(*args, **kwargs)', 'File \"/home/carnd/anaconda3/envs/dlnd_project4/lib/python3.5/site-packages/tornado/stack_context.py\", line 277, in null_wrapper\\n    return fn(*args, **kwargs)', 'File \"/home/carnd/anaconda3/envs/dlnd_project4/lib/python3.5/site-packages/ipykernel/kernelbase.py\", line 283, in dispatcher\\n    return self.dispatch_shell(stream, msg)', 'File \"/home/carnd/anaconda3/envs/dlnd_project4/lib/python3.5/site-packages/ipykernel/kernelbase.py\", line 235, in dispatch_shell\\n    handler(stream, idents, msg)', 'File \"/home/carnd/anaconda3/envs/dlnd_project4/lib/python3.5/site-packages/ipykernel/kernelbase.py\", line 399, in execute_request\\n    user_expressions, allow_stdin)', 'File \"/home/carnd/anaconda3/envs/dlnd_project4/lib/python3.5/site-packages/ipykernel/ipkernel.py\", line 196, in do_execute\\n    res = shell.run_cell(code, store_history=store_history, silent=silent)', 'File \"/home/carnd/anaconda3/envs/dlnd_project4/lib/python3.5/site-packages/ipykernel/zmqshell.py\", line 533, in run_cell\\n    return super(ZMQInteractiveShell, self).run_cell(*args, **kwargs)', 'File \"/home/carnd/anaconda3/envs/dlnd_project4/lib/python3.5/site-packages/IPython/core/interactiveshell.py\", line 2698, in run_cell\\n    interactivity=interactivity, compiler=compiler, result=result)', 'File \"/home/carnd/anaconda3/envs/dlnd_project4/lib/python3.5/site-packages/IPython/core/interactiveshell.py\", line 2808, in run_ast_nodes\\n    if self.run_code(code, result):', 'File \"/home/carnd/anaconda3/envs/dlnd_project4/lib/python3.5/site-packages/IPython/core/interactiveshell.py\", line 2862, in run_code\\n    exec(code_obj, self.user_global_ns, self.user_ns)', 'File \"<ipython-input-7-7d1d889e252e>\", line 21, in <module>\\n    tests.test_model_inputs(model_inputs)', 'File \"/home/carnd/deep-learning/language-translation/problem_unittests.py\", line 106, in test_model_inputs\\n    assert tf.assert_rank(lr, 0, message=\\'Learning Rate has wrong rank\\')', 'File \"/home/carnd/anaconda3/envs/dlnd_project4/lib/python3.5/site-packages/tensorflow/python/ops/check_ops.py\", line 617, in assert_rank\\n    dynamic_condition, data, summarize)', 'File \"/home/carnd/anaconda3/envs/dlnd_project4/lib/python3.5/site-packages/tensorflow/python/ops/check_ops.py\", line 571, in _assert_rank_condition\\n    return control_flow_ops.Assert(condition, data, summarize=summarize)', 'File \"/home/carnd/anaconda3/envs/dlnd_project4/lib/python3.5/site-packages/tensorflow/python/util/tf_should_use.py\", line 170, in wrapped\\n    return _add_should_use_warning(fn(*args, **kwargs))', 'File \"/home/carnd/anaconda3/envs/dlnd_project4/lib/python3.5/site-packages/tensorflow/python/util/tf_should_use.py\", line 139, in _add_should_use_warning\\n    wrapped = TFShouldUseWarningWrapper(x)', 'File \"/home/carnd/anaconda3/envs/dlnd_project4/lib/python3.5/site-packages/tensorflow/python/util/tf_should_use.py\", line 96, in __init__\\n    stack = [s.strip() for s in traceback.format_stack()]']\n",
      "==================================\n",
      "ERROR:tensorflow:==================================\n",
      "Object was never used (type <class 'tensorflow.python.framework.ops.Operation'>):\n",
      "<tf.Operation 'assert_rank_3/Assert/Assert' type=Assert>\n",
      "If you want to mark it as used call its \"mark_used()\" method.\n",
      "It was originally created here:\n",
      "['File \"/home/carnd/anaconda3/envs/dlnd_project4/lib/python3.5/runpy.py\", line 193, in _run_module_as_main\\n    \"__main__\", mod_spec)', 'File \"/home/carnd/anaconda3/envs/dlnd_project4/lib/python3.5/runpy.py\", line 85, in _run_code\\n    exec(code, run_globals)', 'File \"/home/carnd/anaconda3/envs/dlnd_project4/lib/python3.5/site-packages/ipykernel_launcher.py\", line 16, in <module>\\n    app.launch_new_instance()', 'File \"/home/carnd/anaconda3/envs/dlnd_project4/lib/python3.5/site-packages/traitlets/config/application.py\", line 658, in launch_instance\\n    app.start()', 'File \"/home/carnd/anaconda3/envs/dlnd_project4/lib/python3.5/site-packages/ipykernel/kernelapp.py\", line 477, in start\\n    ioloop.IOLoop.instance().start()', 'File \"/home/carnd/anaconda3/envs/dlnd_project4/lib/python3.5/site-packages/zmq/eventloop/ioloop.py\", line 177, in start\\n    super(ZMQIOLoop, self).start()', 'File \"/home/carnd/anaconda3/envs/dlnd_project4/lib/python3.5/site-packages/tornado/ioloop.py\", line 888, in start\\n    handler_func(fd_obj, events)', 'File \"/home/carnd/anaconda3/envs/dlnd_project4/lib/python3.5/site-packages/tornado/stack_context.py\", line 277, in null_wrapper\\n    return fn(*args, **kwargs)', 'File \"/home/carnd/anaconda3/envs/dlnd_project4/lib/python3.5/site-packages/zmq/eventloop/zmqstream.py\", line 440, in _handle_events\\n    self._handle_recv()', 'File \"/home/carnd/anaconda3/envs/dlnd_project4/lib/python3.5/site-packages/zmq/eventloop/zmqstream.py\", line 472, in _handle_recv\\n    self._run_callback(callback, msg)', 'File \"/home/carnd/anaconda3/envs/dlnd_project4/lib/python3.5/site-packages/zmq/eventloop/zmqstream.py\", line 414, in _run_callback\\n    callback(*args, **kwargs)', 'File \"/home/carnd/anaconda3/envs/dlnd_project4/lib/python3.5/site-packages/tornado/stack_context.py\", line 277, in null_wrapper\\n    return fn(*args, **kwargs)', 'File \"/home/carnd/anaconda3/envs/dlnd_project4/lib/python3.5/site-packages/ipykernel/kernelbase.py\", line 283, in dispatcher\\n    return self.dispatch_shell(stream, msg)', 'File \"/home/carnd/anaconda3/envs/dlnd_project4/lib/python3.5/site-packages/ipykernel/kernelbase.py\", line 235, in dispatch_shell\\n    handler(stream, idents, msg)', 'File \"/home/carnd/anaconda3/envs/dlnd_project4/lib/python3.5/site-packages/ipykernel/kernelbase.py\", line 399, in execute_request\\n    user_expressions, allow_stdin)', 'File \"/home/carnd/anaconda3/envs/dlnd_project4/lib/python3.5/site-packages/ipykernel/ipkernel.py\", line 196, in do_execute\\n    res = shell.run_cell(code, store_history=store_history, silent=silent)', 'File \"/home/carnd/anaconda3/envs/dlnd_project4/lib/python3.5/site-packages/ipykernel/zmqshell.py\", line 533, in run_cell\\n    return super(ZMQInteractiveShell, self).run_cell(*args, **kwargs)', 'File \"/home/carnd/anaconda3/envs/dlnd_project4/lib/python3.5/site-packages/IPython/core/interactiveshell.py\", line 2698, in run_cell\\n    interactivity=interactivity, compiler=compiler, result=result)', 'File \"/home/carnd/anaconda3/envs/dlnd_project4/lib/python3.5/site-packages/IPython/core/interactiveshell.py\", line 2808, in run_ast_nodes\\n    if self.run_code(code, result):', 'File \"/home/carnd/anaconda3/envs/dlnd_project4/lib/python3.5/site-packages/IPython/core/interactiveshell.py\", line 2862, in run_code\\n    exec(code_obj, self.user_global_ns, self.user_ns)', 'File \"<ipython-input-7-7d1d889e252e>\", line 21, in <module>\\n    tests.test_model_inputs(model_inputs)', 'File \"/home/carnd/deep-learning/language-translation/problem_unittests.py\", line 107, in test_model_inputs\\n    assert tf.assert_rank(keep_prob, 0, message=\\'Keep Probability has wrong rank\\')', 'File \"/home/carnd/anaconda3/envs/dlnd_project4/lib/python3.5/site-packages/tensorflow/python/ops/check_ops.py\", line 617, in assert_rank\\n    dynamic_condition, data, summarize)', 'File \"/home/carnd/anaconda3/envs/dlnd_project4/lib/python3.5/site-packages/tensorflow/python/ops/check_ops.py\", line 571, in _assert_rank_condition\\n    return control_flow_ops.Assert(condition, data, summarize=summarize)', 'File \"/home/carnd/anaconda3/envs/dlnd_project4/lib/python3.5/site-packages/tensorflow/python/util/tf_should_use.py\", line 170, in wrapped\\n    return _add_should_use_warning(fn(*args, **kwargs))', 'File \"/home/carnd/anaconda3/envs/dlnd_project4/lib/python3.5/site-packages/tensorflow/python/util/tf_should_use.py\", line 139, in _add_should_use_warning\\n    wrapped = TFShouldUseWarningWrapper(x)', 'File \"/home/carnd/anaconda3/envs/dlnd_project4/lib/python3.5/site-packages/tensorflow/python/util/tf_should_use.py\", line 96, in __init__\\n    stack = [s.strip() for s in traceback.format_stack()]']\n",
      "==================================\n"
     ]
    },
    {
     "name": "stdout",
     "output_type": "stream",
     "text": [
      "Tests Passed\n"
     ]
    }
   ],
   "source": [
    "def model_inputs():\n",
    "    \"\"\"\n",
    "    Create TF Placeholders for input, targets, learning rate, and lengths of source and target sequences.\n",
    "    :return: Tuple (input, targets, learning rate, keep probability, target sequence length,\n",
    "    max target sequence length, source sequence length)\n",
    "    \"\"\"\n",
    "    # TODO: Implement Function\n",
    "    input_ = tf.placeholder(tf.int32, [None, None], name='input')\n",
    "    targets = tf.placeholder(tf.int32, [None, None])\n",
    "    learning_rate = tf.placeholder(tf.float32)\n",
    "    keep_prob = tf.placeholder(tf.float32, name='keep_prob')\n",
    "    target_sequence_length = tf.placeholder(tf.int32, [None], name='target_sequence_length')\n",
    "    max_target_len = tf.reduce_max(target_sequence_length, name='max_target_len')\n",
    "    source_sequence_length = tf.placeholder(tf.int32, [None], name='source_sequence_length')\n",
    "    return input_, targets, learning_rate, keep_prob, target_sequence_length, max_target_len, source_sequence_length\n",
    "\n",
    "\n",
    "\"\"\"\n",
    "DON'T MODIFY ANYTHING IN THIS CELL THAT IS BELOW THIS LINE\n",
    "\"\"\"\n",
    "tests.test_model_inputs(model_inputs)"
   ]
  },
  {
   "cell_type": "markdown",
   "metadata": {},
   "source": [
    "### Process Decoder Input\n",
    "Implement `process_decoder_input` by removing the last word id from each batch in `target_data` and concat the GO ID to the begining of each batch."
   ]
  },
  {
   "cell_type": "code",
   "execution_count": 8,
   "metadata": {},
   "outputs": [
    {
     "name": "stdout",
     "output_type": "stream",
     "text": [
      "Tests Passed\n"
     ]
    }
   ],
   "source": [
    "def process_decoder_input(target_data, target_vocab_to_int, batch_size):\n",
    "    \"\"\"\n",
    "    Preprocess target data for encoding\n",
    "    :param target_data: Target Placehoder\n",
    "    :param target_vocab_to_int: Dictionary to go from the target words to an id\n",
    "    :param batch_size: Batch Size\n",
    "    :return: Preprocessed target data\n",
    "    \"\"\"\n",
    "    # TODO: Implement Function\n",
    "    go_id = target_vocab_to_int['<GO>']\n",
    "    go_column = [[go_id]] * batch_size\n",
    "    target_data_new = tf.concat([go_column, target_data[:, :-1]], axis=1)\n",
    "    return target_data_new\n",
    "\n",
    "\"\"\"\n",
    "DON'T MODIFY ANYTHING IN THIS CELL THAT IS BELOW THIS LINE\n",
    "\"\"\"\n",
    "tests.test_process_encoding_input(process_decoder_input)"
   ]
  },
  {
   "cell_type": "markdown",
   "metadata": {},
   "source": [
    "### Encoding\n",
    "Implement `encoding_layer()` to create a Encoder RNN layer:\n",
    " * Embed the encoder input using [`tf.contrib.layers.embed_sequence`](https://www.tensorflow.org/api_docs/python/tf/contrib/layers/embed_sequence)\n",
    " * Construct a [stacked](https://github.com/tensorflow/tensorflow/blob/6947f65a374ebf29e74bb71e36fd82760056d82c/tensorflow/docs_src/tutorials/recurrent.md#stacking-multiple-lstms) [`tf.contrib.rnn.LSTMCell`](https://www.tensorflow.org/api_docs/python/tf/contrib/rnn/LSTMCell) wrapped in a [`tf.contrib.rnn.DropoutWrapper`](https://www.tensorflow.org/api_docs/python/tf/contrib/rnn/DropoutWrapper)\n",
    " * Pass cell and embedded input to [`tf.nn.dynamic_rnn()`](https://www.tensorflow.org/api_docs/python/tf/nn/dynamic_rnn)"
   ]
  },
  {
   "cell_type": "code",
   "execution_count": 9,
   "metadata": {
    "scrolled": false
   },
   "outputs": [
    {
     "name": "stdout",
     "output_type": "stream",
     "text": [
      "Tests Passed\n"
     ]
    }
   ],
   "source": [
    "from imp import reload\n",
    "reload(tests)\n",
    "\n",
    "def encoding_layer(rnn_inputs, rnn_size, num_layers, keep_prob, \n",
    "                   source_sequence_length, source_vocab_size, \n",
    "                   encoding_embedding_size):\n",
    "    \"\"\"\n",
    "    Create encoding layer\n",
    "    :param rnn_inputs: Inputs for the RNN\n",
    "    :param rnn_size: RNN Size\n",
    "    :param num_layers: Number of layers\n",
    "    :param keep_prob: Dropout keep probability\n",
    "    :param source_sequence_length: a list of the lengths of each sequence in the batch\n",
    "    :param source_vocab_size: vocabulary size of source data\n",
    "    :param encoding_embedding_size: embedding size of source data\n",
    "    :return: tuple (RNN output, RNN state)\n",
    "    \"\"\"\n",
    "    # TODO: Implement Function\n",
    "    embedded_inputs = tf.contrib.layers.embed_sequence(rnn_inputs,\n",
    "                                                       vocab_size=source_vocab_size,\n",
    "                                                       embed_dim=encoding_embedding_size)\n",
    "    def build_cell():\n",
    "        lstm = tf.contrib.rnn.LSTMCell(rnn_size)\n",
    "        cell = tf.contrib.rnn.DropoutWrapper(lstm, output_keep_prob=keep_prob)\n",
    "        return cell\n",
    "    stacked_lstm = tf.contrib.rnn.MultiRNNCell([build_cell() for _ in range(num_layers)])\n",
    "    outputs, state = tf.nn.dynamic_rnn(stacked_lstm,\n",
    "                                       embedded_inputs,\n",
    "                                       sequence_length=source_sequence_length,\n",
    "                                       dtype=tf.float32)\n",
    "    return outputs, state\n",
    "\n",
    "\"\"\"\n",
    "DON'T MODIFY ANYTHING IN THIS CELL THAT IS BELOW THIS LINE\n",
    "\"\"\"\n",
    "tests.test_encoding_layer(encoding_layer)"
   ]
  },
  {
   "cell_type": "markdown",
   "metadata": {},
   "source": [
    "### Decoding - Training\n",
    "Create a training decoding layer:\n",
    "* Create a [`tf.contrib.seq2seq.TrainingHelper`](https://www.tensorflow.org/api_docs/python/tf/contrib/seq2seq/TrainingHelper) \n",
    "* Create a [`tf.contrib.seq2seq.BasicDecoder`](https://www.tensorflow.org/api_docs/python/tf/contrib/seq2seq/BasicDecoder)\n",
    "* Obtain the decoder outputs from [`tf.contrib.seq2seq.dynamic_decode`](https://www.tensorflow.org/api_docs/python/tf/contrib/seq2seq/dynamic_decode)"
   ]
  },
  {
   "cell_type": "code",
   "execution_count": 10,
   "metadata": {
    "scrolled": false
   },
   "outputs": [
    {
     "name": "stdout",
     "output_type": "stream",
     "text": [
      "Tests Passed\n"
     ]
    }
   ],
   "source": [
    "def decoding_layer_train(encoder_state, dec_cell, dec_embed_input, \n",
    "                         target_sequence_length, max_summary_length, \n",
    "                         output_layer, keep_prob):\n",
    "    \"\"\"\n",
    "    Create a decoding layer for training\n",
    "    :param encoder_state: Encoder State\n",
    "    :param dec_cell: Decoder RNN Cell\n",
    "    :param dec_embed_input: Decoder embedded input\n",
    "    :param target_sequence_length: The lengths of each sequence in the target batch\n",
    "    :param max_summary_length: The length of the longest sequence in the batch\n",
    "    :param output_layer: Function to apply the output layer\n",
    "    :param keep_prob: Dropout keep probability\n",
    "    :return: BasicDecoderOutput containing training logits and sample_id\n",
    "    \"\"\"\n",
    "    # TODO: Implement Function\n",
    "    training_helper = tf.contrib.seq2seq.TrainingHelper(dec_embed_input, target_sequence_length)\n",
    "    # Dropoutを追加する場所はここでいいのか？\n",
    "    dec_cell_with_dropout = tf.contrib.rnn.DropoutWrapper(dec_cell, output_keep_prob=keep_prob)\n",
    "    decoder = tf.contrib.seq2seq.BasicDecoder(dec_cell_with_dropout,\n",
    "                                              training_helper,\n",
    "                                              encoder_state,\n",
    "                                              output_layer=output_layer)\n",
    "    decoder_outputs, _, _ = tf.contrib.seq2seq.dynamic_decode(decoder,\n",
    "                                                              impute_finished=True,\n",
    "                                                              maximum_iterations=max_summary_length)\n",
    "    return decoder_outputs\n",
    "\n",
    "\n",
    "\n",
    "\"\"\"\n",
    "DON'T MODIFY ANYTHING IN THIS CELL THAT IS BELOW THIS LINE\n",
    "\"\"\"\n",
    "tests.test_decoding_layer_train(decoding_layer_train)"
   ]
  },
  {
   "cell_type": "markdown",
   "metadata": {},
   "source": [
    "### Decoding - Inference\n",
    "Create inference decoder:\n",
    "* Create a [`tf.contrib.seq2seq.GreedyEmbeddingHelper`](https://www.tensorflow.org/api_docs/python/tf/contrib/seq2seq/GreedyEmbeddingHelper)\n",
    "* Create a [`tf.contrib.seq2seq.BasicDecoder`](https://www.tensorflow.org/api_docs/python/tf/contrib/seq2seq/BasicDecoder)\n",
    "* Obtain the decoder outputs from [`tf.contrib.seq2seq.dynamic_decode`](https://www.tensorflow.org/api_docs/python/tf/contrib/seq2seq/dynamic_decode)"
   ]
  },
  {
   "cell_type": "code",
   "execution_count": 11,
   "metadata": {
    "scrolled": false
   },
   "outputs": [
    {
     "name": "stdout",
     "output_type": "stream",
     "text": [
      "Tests Passed\n"
     ]
    }
   ],
   "source": [
    "def decoding_layer_infer(encoder_state, dec_cell, dec_embeddings, start_of_sequence_id,\n",
    "                         end_of_sequence_id, max_target_sequence_length,\n",
    "                         vocab_size, output_layer, batch_size, keep_prob):\n",
    "    \"\"\"\n",
    "    Create a decoding layer for inference\n",
    "    :param encoder_state: Encoder state\n",
    "    :param dec_cell: Decoder RNN Cell\n",
    "    :param dec_embeddings: Decoder embeddings\n",
    "    :param start_of_sequence_id: GO ID\n",
    "    :param end_of_sequence_id: EOS Id\n",
    "    :param max_target_sequence_length: Maximum length of target sequences\n",
    "    :param vocab_size: Size of decoder/target vocabulary\n",
    "    :param decoding_scope: TenorFlow Variable Scope for decoding\n",
    "    :param output_layer: Function to apply the output layer\n",
    "    :param batch_size: Batch size\n",
    "    :param keep_prob: Dropout keep probability\n",
    "    :return: BasicDecoderOutput containing inference logits and sample_id\n",
    "    \"\"\"\n",
    "    # TODO: Implement Function\n",
    "    ge_helper = tf.contrib.seq2seq.GreedyEmbeddingHelper(dec_embeddings,\n",
    "                                                         [start_of_sequence_id] * batch_size,\n",
    "                                                         end_of_sequence_id)\n",
    "    # Dropoutを追加する場所はここでいいのか？\n",
    "    dec_cell_with_dropout = tf.contrib.rnn.DropoutWrapper(dec_cell, output_keep_prob=keep_prob)\n",
    "    decoder = tf.contrib.seq2seq.BasicDecoder(dec_cell_with_dropout,\n",
    "                                              ge_helper,\n",
    "                                              encoder_state,\n",
    "                                              output_layer=output_layer)\n",
    "    decoder_outputs, _, _ = tf.contrib.seq2seq.dynamic_decode(decoder,\n",
    "                                                              impute_finished=True,\n",
    "                                                              maximum_iterations=max_target_sequence_length)\n",
    "    # vocab_sizeが未使用\n",
    "    return decoder_outputs\n",
    "\n",
    "\n",
    "\n",
    "\"\"\"\n",
    "DON'T MODIFY ANYTHING IN THIS CELL THAT IS BELOW THIS LINE\n",
    "\"\"\"\n",
    "tests.test_decoding_layer_infer(decoding_layer_infer)"
   ]
  },
  {
   "cell_type": "markdown",
   "metadata": {},
   "source": [
    "### Build the Decoding Layer\n",
    "Implement `decoding_layer()` to create a Decoder RNN layer.\n",
    "\n",
    "* Embed the target sequences\n",
    "* Construct the decoder LSTM cell (just like you constructed the encoder cell above)\n",
    "* Create an output layer to map the outputs of the decoder to the elements of our vocabulary\n",
    "* Use the your `decoding_layer_train(encoder_state, dec_cell, dec_embed_input, target_sequence_length, max_target_sequence_length, output_layer, keep_prob)` function to get the training logits.\n",
    "* Use your `decoding_layer_infer(encoder_state, dec_cell, dec_embeddings, start_of_sequence_id, end_of_sequence_id, max_target_sequence_length, vocab_size, output_layer, batch_size, keep_prob)` function to get the inference logits.\n",
    "\n",
    "Note: You'll need to use [tf.variable_scope](https://www.tensorflow.org/api_docs/python/tf/variable_scope) to share variables between training and inference."
   ]
  },
  {
   "cell_type": "code",
   "execution_count": 12,
   "metadata": {
    "scrolled": false
   },
   "outputs": [
    {
     "name": "stdout",
     "output_type": "stream",
     "text": [
      "Tests Passed\n"
     ]
    }
   ],
   "source": [
    "def decoding_layer(dec_input, encoder_state,\n",
    "                   target_sequence_length, max_target_sequence_length,\n",
    "                   rnn_size,\n",
    "                   num_layers, target_vocab_to_int, target_vocab_size,\n",
    "                   batch_size, keep_prob, decoding_embedding_size):\n",
    "    \"\"\"\n",
    "    Create decoding layer\n",
    "    :param dec_input: Decoder input\n",
    "    :param encoder_state: Encoder state\n",
    "    :param target_sequence_length: The lengths of each sequence in the target batch\n",
    "    :param max_target_sequence_length: Maximum length of target sequences\n",
    "    :param rnn_size: RNN Size\n",
    "    :param num_layers: Number of layers\n",
    "    :param target_vocab_to_int: Dictionary to go from the target words to an id\n",
    "    :param target_vocab_size: Size of target vocabulary\n",
    "    :param batch_size: The size of the batch\n",
    "    :param keep_prob: Dropout keep probability\n",
    "    :param decoding_embedding_size: Decoding embedding size\n",
    "    :return: Tuple of (Training BasicDecoderOutput, Inference BasicDecoderOutput)\n",
    "    \"\"\"\n",
    "    # TODO: Implement Function\n",
    "    with tf.variable_scope('decode'):\n",
    "        dec_embeddings = tf.Variable(tf.random_uniform([target_vocab_size, decoding_embedding_size]))\n",
    "        dec_embed_input = tf.nn.embedding_lookup(dec_embeddings, dec_input)\n",
    "\n",
    "        def build_cell():\n",
    "            lstm = tf.contrib.rnn.LSTMCell(rnn_size)\n",
    "            cell = tf.contrib.rnn.DropoutWrapper(lstm, output_keep_prob=keep_prob)\n",
    "            return cell\n",
    "        stacked_lstm = tf.contrib.rnn.MultiRNNCell([build_cell() for _ in range(num_layers)])\n",
    "        output_layer = Dense(target_vocab_size)\n",
    "\n",
    "        training_outputs = decoding_layer_train(encoder_state=encoder_state,\n",
    "                                                dec_cell=stacked_lstm,\n",
    "                                                dec_embed_input=dec_embed_input,\n",
    "                                                target_sequence_length=target_sequence_length,\n",
    "                                                max_summary_length=max_target_sequence_length,\n",
    "                                                output_layer=output_layer,\n",
    "                                                keep_prob=keep_prob)\n",
    "        \n",
    "    with tf.variable_scope('decode', reuse=True):\n",
    "        go_id = target_vocab_to_int['<GO>']\n",
    "        eos_id = target_vocab_to_int['<EOS>']\n",
    "        inference_outputs = decoding_layer_infer(encoder_state=encoder_state,\n",
    "                                                 dec_cell=stacked_lstm,\n",
    "                                                 dec_embeddings=dec_embeddings,\n",
    "                                                 start_of_sequence_id=go_id,\n",
    "                                                 end_of_sequence_id=eos_id,\n",
    "                                                 max_target_sequence_length=max_target_sequence_length,\n",
    "                                                 vocab_size=target_vocab_size,\n",
    "                                                 output_layer=output_layer,\n",
    "                                                 batch_size=batch_size,\n",
    "                                                 keep_prob=keep_prob)\n",
    "        \n",
    "    return training_outputs, inference_outputs\n",
    "\n",
    "\n",
    "\n",
    "\"\"\"\n",
    "DON'T MODIFY ANYTHING IN THIS CELL THAT IS BELOW THIS LINE\n",
    "\"\"\"\n",
    "tests.test_decoding_layer(decoding_layer)"
   ]
  },
  {
   "cell_type": "markdown",
   "metadata": {},
   "source": [
    "### Build the Neural Network\n",
    "Apply the functions you implemented above to:\n",
    "\n",
    "- Encode the input using your `encoding_layer(rnn_inputs, rnn_size, num_layers, keep_prob,  source_sequence_length, source_vocab_size, encoding_embedding_size)`.\n",
    "- Process target data using your `process_decoder_input(target_data, target_vocab_to_int, batch_size)` function.\n",
    "- Decode the encoded input using your `decoding_layer(dec_input, enc_state, target_sequence_length, max_target_sentence_length, rnn_size, num_layers, target_vocab_to_int, target_vocab_size, batch_size, keep_prob, dec_embedding_size)` function."
   ]
  },
  {
   "cell_type": "code",
   "execution_count": 13,
   "metadata": {},
   "outputs": [
    {
     "name": "stdout",
     "output_type": "stream",
     "text": [
      "Tests Passed\n"
     ]
    }
   ],
   "source": [
    "def seq2seq_model(input_data, target_data, keep_prob, batch_size,\n",
    "                  source_sequence_length, target_sequence_length,\n",
    "                  max_target_sentence_length,\n",
    "                  source_vocab_size, target_vocab_size,\n",
    "                  enc_embedding_size, dec_embedding_size,\n",
    "                  rnn_size, num_layers, target_vocab_to_int):\n",
    "    \"\"\"\n",
    "    Build the Sequence-to-Sequence part of the neural network\n",
    "    :param input_data: Input placeholder\n",
    "    :param target_data: Target placeholder\n",
    "    :param keep_prob: Dropout keep probability placeholder\n",
    "    :param batch_size: Batch Size\n",
    "    :param source_sequence_length: Sequence Lengths of source sequences in the batch\n",
    "    :param target_sequence_length: Sequence Lengths of target sequences in the batch\n",
    "    :param source_vocab_size: Source vocabulary size\n",
    "    :param target_vocab_size: Target vocabulary size\n",
    "    :param enc_embedding_size: Decoder embedding size\n",
    "    :param dec_embedding_size: Encoder embedding size\n",
    "    :param rnn_size: RNN Size\n",
    "    :param num_layers: Number of layers\n",
    "    :param target_vocab_to_int: Dictionary to go from the target words to an id\n",
    "    :return: Tuple of (Training BasicDecoderOutput, Inference BasicDecoderOutput)\n",
    "    \"\"\"\n",
    "    # TODO: Implement Function\n",
    "    enc_outputs, enc_state = encoding_layer(rnn_inputs=input_data,\n",
    "                                            rnn_size=rnn_size,\n",
    "                                            num_layers=num_layers,\n",
    "                                            keep_prob=keep_prob,\n",
    "                                            source_sequence_length=source_sequence_length,\n",
    "                                            source_vocab_size=source_vocab_size,\n",
    "                                            encoding_embedding_size=enc_embedding_size)\n",
    "    \n",
    "    dec_input = process_decoder_input(target_data=target_data,\n",
    "                                      target_vocab_to_int=target_vocab_to_int,\n",
    "                                      batch_size=batch_size)\n",
    "    \n",
    "    training_outputs, inference_outputs = \\\n",
    "        decoding_layer(dec_input=dec_input,\n",
    "                       encoder_state=enc_state,\n",
    "                       target_sequence_length=target_sequence_length,\n",
    "                       max_target_sequence_length=max_target_sentence_length,\n",
    "                       rnn_size=rnn_size,\n",
    "                       num_layers=num_layers,\n",
    "                       target_vocab_to_int=target_vocab_to_int,\n",
    "                       target_vocab_size=target_vocab_size,\n",
    "                       batch_size=batch_size,\n",
    "                       keep_prob=keep_prob,\n",
    "                       decoding_embedding_size=dec_embedding_size)\n",
    "        \n",
    "    return training_outputs, inference_outputs\n",
    "\n",
    "\n",
    "\"\"\"\n",
    "DON'T MODIFY ANYTHING IN THIS CELL THAT IS BELOW THIS LINE\n",
    "\"\"\"\n",
    "tests.test_seq2seq_model(seq2seq_model)"
   ]
  },
  {
   "cell_type": "markdown",
   "metadata": {},
   "source": [
    "## Neural Network Training\n",
    "### Hyperparameters\n",
    "Tune the following parameters:\n",
    "\n",
    "- Set `epochs` to the number of epochs.\n",
    "- Set `batch_size` to the batch size.\n",
    "- Set `rnn_size` to the size of the RNNs.\n",
    "- Set `num_layers` to the number of layers.\n",
    "- Set `encoding_embedding_size` to the size of the embedding for the encoder.\n",
    "- Set `decoding_embedding_size` to the size of the embedding for the decoder.\n",
    "- Set `learning_rate` to the learning rate.\n",
    "- Set `keep_probability` to the Dropout keep probability\n",
    "- Set `display_step` to state how many steps between each debug output statement"
   ]
  },
  {
   "cell_type": "code",
   "execution_count": 18,
   "metadata": {
    "collapsed": true
   },
   "outputs": [],
   "source": [
    "# Number of Epochs\n",
    "epochs = 10\n",
    "# Batch Size\n",
    "batch_size = 512\n",
    "# RNN Size\n",
    "rnn_size = 256\n",
    "# Number of Layers\n",
    "num_layers = 2\n",
    "# Embedding Size\n",
    "encoding_embedding_size = 256\n",
    "decoding_embedding_size = 256\n",
    "# Learning Rate\n",
    "learning_rate = 0.01\n",
    "# Dropout Keep Probability\n",
    "keep_probability = 0.5\n",
    "display_step = 10"
   ]
  },
  {
   "cell_type": "markdown",
   "metadata": {},
   "source": [
    "### Build the Graph\n",
    "Build the graph using the neural network you implemented."
   ]
  },
  {
   "cell_type": "code",
   "execution_count": 19,
   "metadata": {
    "collapsed": true
   },
   "outputs": [],
   "source": [
    "\"\"\"\n",
    "DON'T MODIFY ANYTHING IN THIS CELL\n",
    "\"\"\"\n",
    "save_path = 'checkpoints/dev'\n",
    "(source_int_text, target_int_text), (source_vocab_to_int, target_vocab_to_int), _ = helper.load_preprocess()\n",
    "max_target_sentence_length = max([len(sentence) for sentence in source_int_text])\n",
    "\n",
    "train_graph = tf.Graph()\n",
    "with train_graph.as_default():\n",
    "    input_data, targets, lr, keep_prob, target_sequence_length, max_target_sequence_length, source_sequence_length = model_inputs()\n",
    "\n",
    "    #sequence_length = tf.placeholder_with_default(max_target_sentence_length, None, name='sequence_length')\n",
    "    input_shape = tf.shape(input_data)\n",
    "\n",
    "    train_logits, inference_logits = seq2seq_model(tf.reverse(input_data, [-1]),\n",
    "                                                   targets,\n",
    "                                                   keep_prob,\n",
    "                                                   batch_size,\n",
    "                                                   source_sequence_length,\n",
    "                                                   target_sequence_length,\n",
    "                                                   max_target_sequence_length,\n",
    "                                                   len(source_vocab_to_int),\n",
    "                                                   len(target_vocab_to_int),\n",
    "                                                   encoding_embedding_size,\n",
    "                                                   decoding_embedding_size,\n",
    "                                                   rnn_size,\n",
    "                                                   num_layers,\n",
    "                                                   target_vocab_to_int)\n",
    "\n",
    "\n",
    "    training_logits = tf.identity(train_logits.rnn_output, name='logits')\n",
    "    inference_logits = tf.identity(inference_logits.sample_id, name='predictions')\n",
    "\n",
    "    masks = tf.sequence_mask(target_sequence_length, max_target_sequence_length, dtype=tf.float32, name='masks')\n",
    "\n",
    "    with tf.name_scope(\"optimization\"):\n",
    "        # Loss function\n",
    "        cost = tf.contrib.seq2seq.sequence_loss(\n",
    "            training_logits,\n",
    "            targets,\n",
    "            masks)\n",
    "\n",
    "        # Optimizer\n",
    "        optimizer = tf.train.AdamOptimizer(lr)\n",
    "\n",
    "        # Gradient Clipping\n",
    "        gradients = optimizer.compute_gradients(cost)\n",
    "        capped_gradients = [(tf.clip_by_value(grad, -1., 1.), var) for grad, var in gradients if grad is not None]\n",
    "        train_op = optimizer.apply_gradients(capped_gradients)\n"
   ]
  },
  {
   "cell_type": "markdown",
   "metadata": {},
   "source": [
    "Batch and pad the source and target sequences"
   ]
  },
  {
   "cell_type": "code",
   "execution_count": 20,
   "metadata": {
    "collapsed": true
   },
   "outputs": [],
   "source": [
    "\"\"\"\n",
    "DON'T MODIFY ANYTHING IN THIS CELL\n",
    "\"\"\"\n",
    "def pad_sentence_batch(sentence_batch, pad_int):\n",
    "    \"\"\"Pad sentences with <PAD> so that each sentence of a batch has the same length\"\"\"\n",
    "    max_sentence = max([len(sentence) for sentence in sentence_batch])\n",
    "    return [sentence + [pad_int] * (max_sentence - len(sentence)) for sentence in sentence_batch]\n",
    "\n",
    "\n",
    "def get_batches(sources, targets, batch_size, source_pad_int, target_pad_int):\n",
    "    \"\"\"Batch targets, sources, and the lengths of their sentences together\"\"\"\n",
    "    for batch_i in range(0, len(sources)//batch_size):\n",
    "        start_i = batch_i * batch_size\n",
    "\n",
    "        # Slice the right amount for the batch\n",
    "        sources_batch = sources[start_i:start_i + batch_size]\n",
    "        targets_batch = targets[start_i:start_i + batch_size]\n",
    "\n",
    "        # Pad\n",
    "        pad_sources_batch = np.array(pad_sentence_batch(sources_batch, source_pad_int))\n",
    "        pad_targets_batch = np.array(pad_sentence_batch(targets_batch, target_pad_int))\n",
    "\n",
    "        # Need the lengths for the _lengths parameters\n",
    "        pad_targets_lengths = []\n",
    "        for target in pad_targets_batch:\n",
    "            pad_targets_lengths.append(len(target))\n",
    "\n",
    "        pad_source_lengths = []\n",
    "        for source in pad_sources_batch:\n",
    "            pad_source_lengths.append(len(source))\n",
    "\n",
    "        yield pad_sources_batch, pad_targets_batch, pad_source_lengths, pad_targets_lengths\n"
   ]
  },
  {
   "cell_type": "markdown",
   "metadata": {},
   "source": [
    "### Train\n",
    "Train the neural network on the preprocessed data. If you have a hard time getting a good loss, check the forms to see if anyone is having the same problem."
   ]
  },
  {
   "cell_type": "code",
   "execution_count": 21,
   "metadata": {
    "scrolled": false
   },
   "outputs": [
    {
     "name": "stdout",
     "output_type": "stream",
     "text": [
      "Epoch   0 Batch   10/269 - Train Accuracy: 0.2764, Validation Accuracy: 0.3469, Loss: 3.4602\n",
      "Epoch   0 Batch   20/269 - Train Accuracy: 0.3336, Validation Accuracy: 0.3948, Loss: 2.9966\n",
      "Epoch   0 Batch   30/269 - Train Accuracy: 0.3961, Validation Accuracy: 0.4284, Loss: 2.6764\n",
      "Epoch   0 Batch   40/269 - Train Accuracy: 0.4085, Validation Accuracy: 0.4639, Loss: 2.4894\n",
      "Epoch   0 Batch   50/269 - Train Accuracy: 0.4647, Validation Accuracy: 0.5057, Loss: 2.1241\n",
      "Epoch   0 Batch   60/269 - Train Accuracy: 0.3988, Validation Accuracy: 0.4148, Loss: 1.6290\n",
      "Epoch   0 Batch   70/269 - Train Accuracy: 0.3984, Validation Accuracy: 0.4209, Loss: 1.4041\n",
      "Epoch   0 Batch   80/269 - Train Accuracy: 0.4120, Validation Accuracy: 0.4264, Loss: 1.1563\n",
      "Epoch   0 Batch   90/269 - Train Accuracy: 0.4317, Validation Accuracy: 0.4835, Loss: 1.0989\n",
      "Epoch   0 Batch  100/269 - Train Accuracy: 0.5289, Validation Accuracy: 0.5306, Loss: 0.9596\n",
      "Epoch   0 Batch  110/269 - Train Accuracy: 0.5225, Validation Accuracy: 0.5343, Loss: 0.9049\n",
      "Epoch   0 Batch  120/269 - Train Accuracy: 0.5083, Validation Accuracy: 0.5414, Loss: 0.8897\n",
      "Epoch   0 Batch  130/269 - Train Accuracy: 0.4932, Validation Accuracy: 0.5421, Loss: 0.8635\n",
      "Epoch   0 Batch  140/269 - Train Accuracy: 0.5323, Validation Accuracy: 0.5356, Loss: 0.8112\n",
      "Epoch   0 Batch  150/269 - Train Accuracy: 0.5605, Validation Accuracy: 0.5847, Loss: 0.7694\n",
      "Epoch   0 Batch  160/269 - Train Accuracy: 0.5762, Validation Accuracy: 0.5948, Loss: 0.7403\n",
      "Epoch   0 Batch  170/269 - Train Accuracy: 0.5701, Validation Accuracy: 0.5875, Loss: 0.7144\n",
      "Epoch   0 Batch  180/269 - Train Accuracy: 0.5833, Validation Accuracy: 0.6049, Loss: 0.7058\n",
      "Epoch   0 Batch  190/269 - Train Accuracy: 0.5802, Validation Accuracy: 0.5965, Loss: 0.6751\n",
      "Epoch   0 Batch  200/269 - Train Accuracy: 0.5800, Validation Accuracy: 0.6054, Loss: 0.6987\n",
      "Epoch   0 Batch  210/269 - Train Accuracy: 0.6057, Validation Accuracy: 0.6125, Loss: 0.6557\n",
      "Epoch   0 Batch  220/269 - Train Accuracy: 0.6079, Validation Accuracy: 0.6175, Loss: 0.6223\n",
      "Epoch   0 Batch  230/269 - Train Accuracy: 0.5992, Validation Accuracy: 0.6119, Loss: 0.6482\n",
      "Epoch   0 Batch  240/269 - Train Accuracy: 0.6331, Validation Accuracy: 0.6231, Loss: 0.5905\n",
      "Epoch   0 Batch  250/269 - Train Accuracy: 0.6054, Validation Accuracy: 0.6271, Loss: 0.6346\n",
      "Epoch   0 Batch  260/269 - Train Accuracy: 0.6095, Validation Accuracy: 0.6388, Loss: 0.6473\n",
      "Epoch   1 Batch   10/269 - Train Accuracy: 0.6133, Validation Accuracy: 0.6395, Loss: 0.6244\n",
      "Epoch   1 Batch   20/269 - Train Accuracy: 0.6271, Validation Accuracy: 0.6483, Loss: 0.6172\n",
      "Epoch   1 Batch   30/269 - Train Accuracy: 0.6517, Validation Accuracy: 0.6577, Loss: 0.5878\n",
      "Epoch   1 Batch   40/269 - Train Accuracy: 0.6382, Validation Accuracy: 0.6630, Loss: 0.6098\n",
      "Epoch   1 Batch   50/269 - Train Accuracy: 0.6435, Validation Accuracy: 0.6683, Loss: 0.5964\n",
      "Epoch   1 Batch   60/269 - Train Accuracy: 0.6583, Validation Accuracy: 0.6689, Loss: 0.5378\n",
      "Epoch   1 Batch   70/269 - Train Accuracy: 0.6732, Validation Accuracy: 0.6756, Loss: 0.5426\n",
      "Epoch   1 Batch   80/269 - Train Accuracy: 0.6683, Validation Accuracy: 0.6713, Loss: 0.5247\n",
      "Epoch   1 Batch   90/269 - Train Accuracy: 0.6465, Validation Accuracy: 0.6862, Loss: 0.5584\n",
      "Epoch   1 Batch  100/269 - Train Accuracy: 0.6936, Validation Accuracy: 0.6766, Loss: 0.5056\n",
      "Epoch   1 Batch  110/269 - Train Accuracy: 0.6727, Validation Accuracy: 0.6864, Loss: 0.5001\n",
      "Epoch   1 Batch  120/269 - Train Accuracy: 0.6759, Validation Accuracy: 0.6869, Loss: 0.5190\n",
      "Epoch   1 Batch  130/269 - Train Accuracy: 0.6677, Validation Accuracy: 0.6795, Loss: 0.5185\n",
      "Epoch   1 Batch  140/269 - Train Accuracy: 0.7008, Validation Accuracy: 0.6999, Loss: 0.4960\n",
      "Epoch   1 Batch  150/269 - Train Accuracy: 0.7060, Validation Accuracy: 0.6911, Loss: 0.4736\n",
      "Epoch   1 Batch  160/269 - Train Accuracy: 0.7056, Validation Accuracy: 0.6978, Loss: 0.4597\n",
      "Epoch   1 Batch  170/269 - Train Accuracy: 0.7192, Validation Accuracy: 0.7108, Loss: 0.4493\n",
      "Epoch   1 Batch  180/269 - Train Accuracy: 0.7249, Validation Accuracy: 0.7110, Loss: 0.4444\n",
      "Epoch   1 Batch  190/269 - Train Accuracy: 0.7099, Validation Accuracy: 0.7223, Loss: 0.4367\n",
      "Epoch   1 Batch  200/269 - Train Accuracy: 0.7136, Validation Accuracy: 0.7085, Loss: 0.4606\n",
      "Epoch   1 Batch  210/269 - Train Accuracy: 0.7367, Validation Accuracy: 0.7261, Loss: 0.4264\n",
      "Epoch   1 Batch  220/269 - Train Accuracy: 0.7301, Validation Accuracy: 0.7232, Loss: 0.4092\n",
      "Epoch   1 Batch  230/269 - Train Accuracy: 0.7315, Validation Accuracy: 0.7203, Loss: 0.4101\n",
      "Epoch   1 Batch  240/269 - Train Accuracy: 0.7660, Validation Accuracy: 0.7347, Loss: 0.3730\n",
      "Epoch   1 Batch  250/269 - Train Accuracy: 0.7311, Validation Accuracy: 0.7193, Loss: 0.4214\n",
      "Epoch   1 Batch  260/269 - Train Accuracy: 0.7230, Validation Accuracy: 0.7403, Loss: 0.4226\n",
      "Epoch   2 Batch   10/269 - Train Accuracy: 0.7416, Validation Accuracy: 0.7344, Loss: 0.3985\n",
      "Epoch   2 Batch   20/269 - Train Accuracy: 0.7515, Validation Accuracy: 0.7480, Loss: 0.3935\n",
      "Epoch   2 Batch   30/269 - Train Accuracy: 0.7540, Validation Accuracy: 0.7218, Loss: 0.3732\n",
      "Epoch   2 Batch   40/269 - Train Accuracy: 0.7396, Validation Accuracy: 0.7446, Loss: 0.3935\n",
      "Epoch   2 Batch   50/269 - Train Accuracy: 0.7293, Validation Accuracy: 0.7564, Loss: 0.3834\n",
      "Epoch   2 Batch   60/269 - Train Accuracy: 0.7762, Validation Accuracy: 0.7527, Loss: 0.3375\n",
      "Epoch   2 Batch   70/269 - Train Accuracy: 0.7845, Validation Accuracy: 0.7659, Loss: 0.3515\n",
      "Epoch   2 Batch   80/269 - Train Accuracy: 0.7640, Validation Accuracy: 0.7532, Loss: 0.3330\n",
      "Epoch   2 Batch   90/269 - Train Accuracy: 0.7610, Validation Accuracy: 0.7665, Loss: 0.3581\n",
      "Epoch   2 Batch  100/269 - Train Accuracy: 0.7826, Validation Accuracy: 0.7662, Loss: 0.3279\n",
      "Epoch   2 Batch  110/269 - Train Accuracy: 0.7764, Validation Accuracy: 0.7500, Loss: 0.3149\n",
      "Epoch   2 Batch  120/269 - Train Accuracy: 0.7818, Validation Accuracy: 0.7763, Loss: 0.3417\n",
      "Epoch   2 Batch  130/269 - Train Accuracy: 0.7720, Validation Accuracy: 0.7568, Loss: 0.3355\n",
      "Epoch   2 Batch  140/269 - Train Accuracy: 0.7964, Validation Accuracy: 0.7690, Loss: 0.3350\n",
      "Epoch   2 Batch  150/269 - Train Accuracy: 0.7919, Validation Accuracy: 0.7869, Loss: 0.3005\n",
      "Epoch   2 Batch  160/269 - Train Accuracy: 0.7851, Validation Accuracy: 0.7758, Loss: 0.3009\n",
      "Epoch   2 Batch  170/269 - Train Accuracy: 0.8034, Validation Accuracy: 0.7910, Loss: 0.2976\n",
      "Epoch   2 Batch  180/269 - Train Accuracy: 0.8068, Validation Accuracy: 0.7922, Loss: 0.2937\n",
      "Epoch   2 Batch  190/269 - Train Accuracy: 0.7959, Validation Accuracy: 0.8019, Loss: 0.2871\n",
      "Epoch   2 Batch  200/269 - Train Accuracy: 0.7943, Validation Accuracy: 0.7912, Loss: 0.2884\n",
      "Epoch   2 Batch  210/269 - Train Accuracy: 0.8075, Validation Accuracy: 0.8071, Loss: 0.2771\n",
      "Epoch   2 Batch  220/269 - Train Accuracy: 0.8137, Validation Accuracy: 0.7904, Loss: 0.2605\n",
      "Epoch   2 Batch  230/269 - Train Accuracy: 0.8182, Validation Accuracy: 0.8102, Loss: 0.2761\n",
      "Epoch   2 Batch  240/269 - Train Accuracy: 0.8296, Validation Accuracy: 0.8240, Loss: 0.2477\n",
      "Epoch   2 Batch  250/269 - Train Accuracy: 0.8199, Validation Accuracy: 0.8056, Loss: 0.2641\n",
      "Epoch   2 Batch  260/269 - Train Accuracy: 0.7977, Validation Accuracy: 0.8176, Loss: 0.2805\n",
      "Epoch   3 Batch   10/269 - Train Accuracy: 0.8197, Validation Accuracy: 0.8165, Loss: 0.2633\n",
      "Epoch   3 Batch   20/269 - Train Accuracy: 0.8278, Validation Accuracy: 0.8289, Loss: 0.2538\n",
      "Epoch   3 Batch   30/269 - Train Accuracy: 0.8315, Validation Accuracy: 0.8234, Loss: 0.2455\n",
      "Epoch   3 Batch   40/269 - Train Accuracy: 0.8227, Validation Accuracy: 0.8361, Loss: 0.2479\n",
      "Epoch   3 Batch   50/269 - Train Accuracy: 0.8055, Validation Accuracy: 0.8301, Loss: 0.2520\n",
      "Epoch   3 Batch   60/269 - Train Accuracy: 0.8413, Validation Accuracy: 0.8408, Loss: 0.2204\n",
      "Epoch   3 Batch   70/269 - Train Accuracy: 0.8541, Validation Accuracy: 0.8374, Loss: 0.2423\n",
      "Epoch   3 Batch   80/269 - Train Accuracy: 0.8291, Validation Accuracy: 0.8388, Loss: 0.2276\n",
      "Epoch   3 Batch   90/269 - Train Accuracy: 0.8430, Validation Accuracy: 0.8442, Loss: 0.2316\n",
      "Epoch   3 Batch  100/269 - Train Accuracy: 0.8552, Validation Accuracy: 0.8504, Loss: 0.2221\n",
      "Epoch   3 Batch  110/269 - Train Accuracy: 0.8488, Validation Accuracy: 0.8436, Loss: 0.2127\n"
     ]
    },
    {
     "name": "stdout",
     "output_type": "stream",
     "text": [
      "Epoch   3 Batch  120/269 - Train Accuracy: 0.8389, Validation Accuracy: 0.8391, Loss: 0.2323\n",
      "Epoch   3 Batch  130/269 - Train Accuracy: 0.8368, Validation Accuracy: 0.8388, Loss: 0.2232\n",
      "Epoch   3 Batch  140/269 - Train Accuracy: 0.8449, Validation Accuracy: 0.8349, Loss: 0.2194\n",
      "Epoch   3 Batch  150/269 - Train Accuracy: 0.8544, Validation Accuracy: 0.8401, Loss: 0.2079\n",
      "Epoch   3 Batch  160/269 - Train Accuracy: 0.8593, Validation Accuracy: 0.8503, Loss: 0.2062\n",
      "Epoch   3 Batch  170/269 - Train Accuracy: 0.8491, Validation Accuracy: 0.8609, Loss: 0.1976\n",
      "Epoch   3 Batch  180/269 - Train Accuracy: 0.8719, Validation Accuracy: 0.8641, Loss: 0.1985\n",
      "Epoch   3 Batch  190/269 - Train Accuracy: 0.8369, Validation Accuracy: 0.8517, Loss: 0.2026\n",
      "Epoch   3 Batch  200/269 - Train Accuracy: 0.8563, Validation Accuracy: 0.8566, Loss: 0.1992\n",
      "Epoch   3 Batch  210/269 - Train Accuracy: 0.8459, Validation Accuracy: 0.8596, Loss: 0.1954\n",
      "Epoch   3 Batch  220/269 - Train Accuracy: 0.8612, Validation Accuracy: 0.8649, Loss: 0.1864\n",
      "Epoch   3 Batch  230/269 - Train Accuracy: 0.8665, Validation Accuracy: 0.8659, Loss: 0.1921\n",
      "Epoch   3 Batch  240/269 - Train Accuracy: 0.8666, Validation Accuracy: 0.8537, Loss: 0.1761\n",
      "Epoch   3 Batch  250/269 - Train Accuracy: 0.8745, Validation Accuracy: 0.8595, Loss: 0.1870\n",
      "Epoch   3 Batch  260/269 - Train Accuracy: 0.8438, Validation Accuracy: 0.8660, Loss: 0.1898\n",
      "Epoch   4 Batch   10/269 - Train Accuracy: 0.8642, Validation Accuracy: 0.8617, Loss: 0.1814\n",
      "Epoch   4 Batch   20/269 - Train Accuracy: 0.8782, Validation Accuracy: 0.8667, Loss: 0.1738\n",
      "Epoch   4 Batch   30/269 - Train Accuracy: 0.8783, Validation Accuracy: 0.8651, Loss: 0.1753\n",
      "Epoch   4 Batch   40/269 - Train Accuracy: 0.8626, Validation Accuracy: 0.8616, Loss: 0.1857\n",
      "Epoch   4 Batch   50/269 - Train Accuracy: 0.8363, Validation Accuracy: 0.8575, Loss: 0.1983\n",
      "Epoch   4 Batch   60/269 - Train Accuracy: 0.8809, Validation Accuracy: 0.8503, Loss: 0.1624\n",
      "Epoch   4 Batch   70/269 - Train Accuracy: 0.8761, Validation Accuracy: 0.8695, Loss: 0.1791\n",
      "Epoch   4 Batch   80/269 - Train Accuracy: 0.8682, Validation Accuracy: 0.8628, Loss: 0.1711\n",
      "Epoch   4 Batch   90/269 - Train Accuracy: 0.8693, Validation Accuracy: 0.8682, Loss: 0.1749\n",
      "Epoch   4 Batch  100/269 - Train Accuracy: 0.8820, Validation Accuracy: 0.8678, Loss: 0.1723\n",
      "Epoch   4 Batch  110/269 - Train Accuracy: 0.8719, Validation Accuracy: 0.8683, Loss: 0.1648\n",
      "Epoch   4 Batch  120/269 - Train Accuracy: 0.8767, Validation Accuracy: 0.8697, Loss: 0.1734\n",
      "Epoch   4 Batch  130/269 - Train Accuracy: 0.8646, Validation Accuracy: 0.8722, Loss: 0.1758\n",
      "Epoch   4 Batch  140/269 - Train Accuracy: 0.8654, Validation Accuracy: 0.8699, Loss: 0.1716\n",
      "Epoch   4 Batch  150/269 - Train Accuracy: 0.8819, Validation Accuracy: 0.8684, Loss: 0.1622\n",
      "Epoch   4 Batch  160/269 - Train Accuracy: 0.8743, Validation Accuracy: 0.8698, Loss: 0.1622\n",
      "Epoch   4 Batch  170/269 - Train Accuracy: 0.8690, Validation Accuracy: 0.8687, Loss: 0.1589\n",
      "Epoch   4 Batch  180/269 - Train Accuracy: 0.8921, Validation Accuracy: 0.8780, Loss: 0.1633\n",
      "Epoch   4 Batch  190/269 - Train Accuracy: 0.8562, Validation Accuracy: 0.8717, Loss: 0.1524\n",
      "Epoch   4 Batch  200/269 - Train Accuracy: 0.8695, Validation Accuracy: 0.8700, Loss: 0.1701\n",
      "Epoch   4 Batch  210/269 - Train Accuracy: 0.8629, Validation Accuracy: 0.8792, Loss: 0.1563\n",
      "Epoch   4 Batch  220/269 - Train Accuracy: 0.8781, Validation Accuracy: 0.8743, Loss: 0.1452\n",
      "Epoch   4 Batch  230/269 - Train Accuracy: 0.8873, Validation Accuracy: 0.8723, Loss: 0.1535\n",
      "Epoch   4 Batch  240/269 - Train Accuracy: 0.8959, Validation Accuracy: 0.8767, Loss: 0.1356\n",
      "Epoch   4 Batch  250/269 - Train Accuracy: 0.8887, Validation Accuracy: 0.8754, Loss: 0.1486\n",
      "Epoch   4 Batch  260/269 - Train Accuracy: 0.8656, Validation Accuracy: 0.8778, Loss: 0.1566\n",
      "Epoch   5 Batch   10/269 - Train Accuracy: 0.8793, Validation Accuracy: 0.8697, Loss: 0.1496\n",
      "Epoch   5 Batch   20/269 - Train Accuracy: 0.8805, Validation Accuracy: 0.8874, Loss: 0.1491\n",
      "Epoch   5 Batch   30/269 - Train Accuracy: 0.8931, Validation Accuracy: 0.8770, Loss: 0.1441\n",
      "Epoch   5 Batch   40/269 - Train Accuracy: 0.8854, Validation Accuracy: 0.8774, Loss: 0.1491\n",
      "Epoch   5 Batch   50/269 - Train Accuracy: 0.8556, Validation Accuracy: 0.8850, Loss: 0.1599\n",
      "Epoch   5 Batch   60/269 - Train Accuracy: 0.8942, Validation Accuracy: 0.8817, Loss: 0.1366\n",
      "Epoch   5 Batch   70/269 - Train Accuracy: 0.8917, Validation Accuracy: 0.8884, Loss: 0.1432\n",
      "Epoch   5 Batch   80/269 - Train Accuracy: 0.8972, Validation Accuracy: 0.8803, Loss: 0.1316\n",
      "Epoch   5 Batch   90/269 - Train Accuracy: 0.8821, Validation Accuracy: 0.8816, Loss: 0.1453\n",
      "Epoch   5 Batch  100/269 - Train Accuracy: 0.9012, Validation Accuracy: 0.8934, Loss: 0.1418\n",
      "Epoch   5 Batch  110/269 - Train Accuracy: 0.8889, Validation Accuracy: 0.8904, Loss: 0.1359\n",
      "Epoch   5 Batch  120/269 - Train Accuracy: 0.8905, Validation Accuracy: 0.8903, Loss: 0.1464\n",
      "Epoch   5 Batch  130/269 - Train Accuracy: 0.8901, Validation Accuracy: 0.8861, Loss: 0.1476\n",
      "Epoch   5 Batch  140/269 - Train Accuracy: 0.8871, Validation Accuracy: 0.8919, Loss: 0.1396\n",
      "Epoch   5 Batch  150/269 - Train Accuracy: 0.8942, Validation Accuracy: 0.8884, Loss: 0.1326\n",
      "Epoch   5 Batch  160/269 - Train Accuracy: 0.8967, Validation Accuracy: 0.8888, Loss: 0.1354\n",
      "Epoch   5 Batch  170/269 - Train Accuracy: 0.9004, Validation Accuracy: 0.9013, Loss: 0.1344\n",
      "Epoch   5 Batch  180/269 - Train Accuracy: 0.9060, Validation Accuracy: 0.9039, Loss: 0.1246\n",
      "Epoch   5 Batch  190/269 - Train Accuracy: 0.8861, Validation Accuracy: 0.8976, Loss: 0.1256\n",
      "Epoch   5 Batch  200/269 - Train Accuracy: 0.8879, Validation Accuracy: 0.8933, Loss: 0.1306\n",
      "Epoch   5 Batch  210/269 - Train Accuracy: 0.8802, Validation Accuracy: 0.9022, Loss: 0.1271\n",
      "Epoch   5 Batch  220/269 - Train Accuracy: 0.8979, Validation Accuracy: 0.8948, Loss: 0.1160\n",
      "Epoch   5 Batch  230/269 - Train Accuracy: 0.9051, Validation Accuracy: 0.8976, Loss: 0.1229\n",
      "Epoch   5 Batch  240/269 - Train Accuracy: 0.9065, Validation Accuracy: 0.8936, Loss: 0.1216\n",
      "Epoch   5 Batch  250/269 - Train Accuracy: 0.9041, Validation Accuracy: 0.8919, Loss: 0.1264\n",
      "Epoch   5 Batch  260/269 - Train Accuracy: 0.8891, Validation Accuracy: 0.9055, Loss: 0.1230\n",
      "Epoch   6 Batch   10/269 - Train Accuracy: 0.9021, Validation Accuracy: 0.8920, Loss: 0.1100\n",
      "Epoch   6 Batch   20/269 - Train Accuracy: 0.9107, Validation Accuracy: 0.8991, Loss: 0.1203\n",
      "Epoch   6 Batch   30/269 - Train Accuracy: 0.9007, Validation Accuracy: 0.8981, Loss: 0.1228\n",
      "Epoch   6 Batch   40/269 - Train Accuracy: 0.8992, Validation Accuracy: 0.9007, Loss: 0.1183\n",
      "Epoch   6 Batch   50/269 - Train Accuracy: 0.8788, Validation Accuracy: 0.9019, Loss: 0.1349\n",
      "Epoch   6 Batch   60/269 - Train Accuracy: 0.9020, Validation Accuracy: 0.8963, Loss: 0.1053\n",
      "Epoch   6 Batch   70/269 - Train Accuracy: 0.9154, Validation Accuracy: 0.9042, Loss: 0.1154\n",
      "Epoch   6 Batch   80/269 - Train Accuracy: 0.9089, Validation Accuracy: 0.8995, Loss: 0.1159\n",
      "Epoch   6 Batch   90/269 - Train Accuracy: 0.9084, Validation Accuracy: 0.9020, Loss: 0.1268\n",
      "Epoch   6 Batch  100/269 - Train Accuracy: 0.9154, Validation Accuracy: 0.9033, Loss: 0.1136\n",
      "Epoch   6 Batch  110/269 - Train Accuracy: 0.9067, Validation Accuracy: 0.8991, Loss: 0.1075\n",
      "Epoch   6 Batch  120/269 - Train Accuracy: 0.9021, Validation Accuracy: 0.9007, Loss: 0.1176\n",
      "Epoch   6 Batch  130/269 - Train Accuracy: 0.9156, Validation Accuracy: 0.8948, Loss: 0.1161\n",
      "Epoch   6 Batch  140/269 - Train Accuracy: 0.8912, Validation Accuracy: 0.8944, Loss: 0.1152\n",
      "Epoch   6 Batch  150/269 - Train Accuracy: 0.9062, Validation Accuracy: 0.9000, Loss: 0.1187\n",
      "Epoch   6 Batch  160/269 - Train Accuracy: 0.9084, Validation Accuracy: 0.9023, Loss: 0.1071\n",
      "Epoch   6 Batch  170/269 - Train Accuracy: 0.8972, Validation Accuracy: 0.8876, Loss: 0.1049\n",
      "Epoch   6 Batch  180/269 - Train Accuracy: 0.9209, Validation Accuracy: 0.9052, Loss: 0.1069\n",
      "Epoch   6 Batch  190/269 - Train Accuracy: 0.9039, Validation Accuracy: 0.9065, Loss: 0.1086\n",
      "Epoch   6 Batch  200/269 - Train Accuracy: 0.9042, Validation Accuracy: 0.9092, Loss: 0.1083\n",
      "Epoch   6 Batch  210/269 - Train Accuracy: 0.8996, Validation Accuracy: 0.9078, Loss: 0.1108\n",
      "Epoch   6 Batch  220/269 - Train Accuracy: 0.9065, Validation Accuracy: 0.8979, Loss: 0.1034\n"
     ]
    },
    {
     "name": "stdout",
     "output_type": "stream",
     "text": [
      "Epoch   6 Batch  230/269 - Train Accuracy: 0.9118, Validation Accuracy: 0.9065, Loss: 0.1085\n",
      "Epoch   6 Batch  240/269 - Train Accuracy: 0.9135, Validation Accuracy: 0.9113, Loss: 0.0985\n",
      "Epoch   6 Batch  250/269 - Train Accuracy: 0.9152, Validation Accuracy: 0.9039, Loss: 0.1049\n",
      "Epoch   6 Batch  260/269 - Train Accuracy: 0.8961, Validation Accuracy: 0.9039, Loss: 0.1126\n",
      "Epoch   7 Batch   10/269 - Train Accuracy: 0.9075, Validation Accuracy: 0.9106, Loss: 0.0972\n",
      "Epoch   7 Batch   20/269 - Train Accuracy: 0.9141, Validation Accuracy: 0.9018, Loss: 0.1055\n",
      "Epoch   7 Batch   30/269 - Train Accuracy: 0.9099, Validation Accuracy: 0.9155, Loss: 0.1039\n",
      "Epoch   7 Batch   40/269 - Train Accuracy: 0.9090, Validation Accuracy: 0.9041, Loss: 0.1090\n",
      "Epoch   7 Batch   50/269 - Train Accuracy: 0.8973, Validation Accuracy: 0.9040, Loss: 0.1173\n",
      "Epoch   7 Batch   60/269 - Train Accuracy: 0.9161, Validation Accuracy: 0.9060, Loss: 0.0954\n",
      "Epoch   7 Batch   70/269 - Train Accuracy: 0.9331, Validation Accuracy: 0.9041, Loss: 0.1075\n",
      "Epoch   7 Batch   80/269 - Train Accuracy: 0.9126, Validation Accuracy: 0.9023, Loss: 0.1036\n",
      "Epoch   7 Batch   90/269 - Train Accuracy: 0.9112, Validation Accuracy: 0.9063, Loss: 0.1038\n",
      "Epoch   7 Batch  100/269 - Train Accuracy: 0.9251, Validation Accuracy: 0.9190, Loss: 0.1022\n",
      "Epoch   7 Batch  110/269 - Train Accuracy: 0.9123, Validation Accuracy: 0.9114, Loss: 0.1003\n",
      "Epoch   7 Batch  120/269 - Train Accuracy: 0.9039, Validation Accuracy: 0.9006, Loss: 0.1102\n",
      "Epoch   7 Batch  130/269 - Train Accuracy: 0.9130, Validation Accuracy: 0.9045, Loss: 0.1065\n",
      "Epoch   7 Batch  140/269 - Train Accuracy: 0.9180, Validation Accuracy: 0.9076, Loss: 0.1046\n",
      "Epoch   7 Batch  150/269 - Train Accuracy: 0.9121, Validation Accuracy: 0.9135, Loss: 0.1008\n",
      "Epoch   7 Batch  160/269 - Train Accuracy: 0.9133, Validation Accuracy: 0.9088, Loss: 0.0980\n",
      "Epoch   7 Batch  170/269 - Train Accuracy: 0.9150, Validation Accuracy: 0.9160, Loss: 0.0907\n",
      "Epoch   7 Batch  180/269 - Train Accuracy: 0.9238, Validation Accuracy: 0.9159, Loss: 0.0931\n",
      "Epoch   7 Batch  190/269 - Train Accuracy: 0.9038, Validation Accuracy: 0.9172, Loss: 0.0950\n",
      "Epoch   7 Batch  200/269 - Train Accuracy: 0.9206, Validation Accuracy: 0.9206, Loss: 0.0932\n",
      "Epoch   7 Batch  210/269 - Train Accuracy: 0.9165, Validation Accuracy: 0.9163, Loss: 0.0989\n",
      "Epoch   7 Batch  220/269 - Train Accuracy: 0.9209, Validation Accuracy: 0.9194, Loss: 0.0914\n",
      "Epoch   7 Batch  230/269 - Train Accuracy: 0.9272, Validation Accuracy: 0.9196, Loss: 0.0975\n",
      "Epoch   7 Batch  240/269 - Train Accuracy: 0.9271, Validation Accuracy: 0.9244, Loss: 0.0866\n",
      "Epoch   7 Batch  250/269 - Train Accuracy: 0.9244, Validation Accuracy: 0.9202, Loss: 0.0925\n",
      "Epoch   7 Batch  260/269 - Train Accuracy: 0.9187, Validation Accuracy: 0.9309, Loss: 0.0981\n",
      "Epoch   8 Batch   10/269 - Train Accuracy: 0.9229, Validation Accuracy: 0.9206, Loss: 0.0851\n",
      "Epoch   8 Batch   20/269 - Train Accuracy: 0.9268, Validation Accuracy: 0.9243, Loss: 0.0843\n",
      "Epoch   8 Batch   30/269 - Train Accuracy: 0.9315, Validation Accuracy: 0.9334, Loss: 0.0881\n",
      "Epoch   8 Batch   40/269 - Train Accuracy: 0.9187, Validation Accuracy: 0.9339, Loss: 0.0959\n",
      "Epoch   8 Batch   50/269 - Train Accuracy: 0.9117, Validation Accuracy: 0.9184, Loss: 0.0945\n",
      "Epoch   8 Batch   60/269 - Train Accuracy: 0.9300, Validation Accuracy: 0.9205, Loss: 0.0814\n",
      "Epoch   8 Batch   70/269 - Train Accuracy: 0.9412, Validation Accuracy: 0.9309, Loss: 0.0947\n",
      "Epoch   8 Batch   80/269 - Train Accuracy: 0.9273, Validation Accuracy: 0.9231, Loss: 0.0908\n",
      "Epoch   8 Batch   90/269 - Train Accuracy: 0.9182, Validation Accuracy: 0.9261, Loss: 0.0917\n",
      "Epoch   8 Batch  100/269 - Train Accuracy: 0.9250, Validation Accuracy: 0.9274, Loss: 0.0843\n",
      "Epoch   8 Batch  110/269 - Train Accuracy: 0.9275, Validation Accuracy: 0.9302, Loss: 0.0796\n",
      "Epoch   8 Batch  120/269 - Train Accuracy: 0.9285, Validation Accuracy: 0.9242, Loss: 0.0905\n",
      "Epoch   8 Batch  130/269 - Train Accuracy: 0.9313, Validation Accuracy: 0.9311, Loss: 0.0862\n",
      "Epoch   8 Batch  140/269 - Train Accuracy: 0.9165, Validation Accuracy: 0.9337, Loss: 0.0909\n",
      "Epoch   8 Batch  150/269 - Train Accuracy: 0.9327, Validation Accuracy: 0.9292, Loss: 0.0858\n",
      "Epoch   8 Batch  160/269 - Train Accuracy: 0.9186, Validation Accuracy: 0.9401, Loss: 0.0834\n",
      "Epoch   8 Batch  170/269 - Train Accuracy: 0.9288, Validation Accuracy: 0.9356, Loss: 0.0792\n",
      "Epoch   8 Batch  180/269 - Train Accuracy: 0.9362, Validation Accuracy: 0.9331, Loss: 0.0794\n",
      "Epoch   8 Batch  190/269 - Train Accuracy: 0.9189, Validation Accuracy: 0.9295, Loss: 0.0801\n",
      "Epoch   8 Batch  200/269 - Train Accuracy: 0.9213, Validation Accuracy: 0.9293, Loss: 0.0804\n",
      "Epoch   8 Batch  210/269 - Train Accuracy: 0.9278, Validation Accuracy: 0.9320, Loss: 0.0821\n",
      "Epoch   8 Batch  220/269 - Train Accuracy: 0.9262, Validation Accuracy: 0.9343, Loss: 0.0806\n",
      "Epoch   8 Batch  230/269 - Train Accuracy: 0.9366, Validation Accuracy: 0.9363, Loss: 0.0815\n",
      "Epoch   8 Batch  240/269 - Train Accuracy: 0.9324, Validation Accuracy: 0.9371, Loss: 0.0766\n",
      "Epoch   8 Batch  250/269 - Train Accuracy: 0.9247, Validation Accuracy: 0.9308, Loss: 0.0808\n",
      "Epoch   8 Batch  260/269 - Train Accuracy: 0.9251, Validation Accuracy: 0.9287, Loss: 0.0887\n",
      "Epoch   9 Batch   10/269 - Train Accuracy: 0.9307, Validation Accuracy: 0.9268, Loss: 0.0742\n",
      "Epoch   9 Batch   20/269 - Train Accuracy: 0.9273, Validation Accuracy: 0.9306, Loss: 0.0846\n",
      "Epoch   9 Batch   30/269 - Train Accuracy: 0.9342, Validation Accuracy: 0.9203, Loss: 0.0883\n",
      "Epoch   9 Batch   40/269 - Train Accuracy: 0.9242, Validation Accuracy: 0.9314, Loss: 0.0825\n",
      "Epoch   9 Batch   50/269 - Train Accuracy: 0.9200, Validation Accuracy: 0.9362, Loss: 0.0958\n",
      "Epoch   9 Batch   60/269 - Train Accuracy: 0.9341, Validation Accuracy: 0.9318, Loss: 0.0782\n",
      "Epoch   9 Batch   70/269 - Train Accuracy: 0.9468, Validation Accuracy: 0.9417, Loss: 0.0878\n",
      "Epoch   9 Batch   80/269 - Train Accuracy: 0.9298, Validation Accuracy: 0.9210, Loss: 0.0789\n",
      "Epoch   9 Batch   90/269 - Train Accuracy: 0.9306, Validation Accuracy: 0.9323, Loss: 0.0871\n",
      "Epoch   9 Batch  100/269 - Train Accuracy: 0.9404, Validation Accuracy: 0.9375, Loss: 0.0838\n",
      "Epoch   9 Batch  110/269 - Train Accuracy: 0.9200, Validation Accuracy: 0.9314, Loss: 0.0779\n",
      "Epoch   9 Batch  120/269 - Train Accuracy: 0.9317, Validation Accuracy: 0.9229, Loss: 0.0915\n",
      "Epoch   9 Batch  130/269 - Train Accuracy: 0.9340, Validation Accuracy: 0.9350, Loss: 0.0876\n",
      "Epoch   9 Batch  140/269 - Train Accuracy: 0.9235, Validation Accuracy: 0.9284, Loss: 0.0835\n",
      "Epoch   9 Batch  150/269 - Train Accuracy: 0.9342, Validation Accuracy: 0.9407, Loss: 0.0797\n",
      "Epoch   9 Batch  160/269 - Train Accuracy: 0.9299, Validation Accuracy: 0.9431, Loss: 0.0796\n",
      "Epoch   9 Batch  170/269 - Train Accuracy: 0.9287, Validation Accuracy: 0.9404, Loss: 0.0770\n",
      "Epoch   9 Batch  180/269 - Train Accuracy: 0.9435, Validation Accuracy: 0.9333, Loss: 0.0826\n",
      "Epoch   9 Batch  190/269 - Train Accuracy: 0.9268, Validation Accuracy: 0.9321, Loss: 0.0782\n",
      "Epoch   9 Batch  200/269 - Train Accuracy: 0.9321, Validation Accuracy: 0.9312, Loss: 0.0815\n",
      "Epoch   9 Batch  210/269 - Train Accuracy: 0.9320, Validation Accuracy: 0.9339, Loss: 0.0750\n",
      "Epoch   9 Batch  220/269 - Train Accuracy: 0.9313, Validation Accuracy: 0.9335, Loss: 0.0747\n",
      "Epoch   9 Batch  230/269 - Train Accuracy: 0.9391, Validation Accuracy: 0.9320, Loss: 0.0786\n",
      "Epoch   9 Batch  240/269 - Train Accuracy: 0.9361, Validation Accuracy: 0.9334, Loss: 0.0696\n",
      "Epoch   9 Batch  250/269 - Train Accuracy: 0.9381, Validation Accuracy: 0.9303, Loss: 0.0734\n",
      "Epoch   9 Batch  260/269 - Train Accuracy: 0.9346, Validation Accuracy: 0.9411, Loss: 0.0832\n",
      "Model Trained and Saved\n"
     ]
    }
   ],
   "source": [
    "\"\"\"\n",
    "DON'T MODIFY ANYTHING IN THIS CELL\n",
    "\"\"\"\n",
    "def get_accuracy(target, logits):\n",
    "    \"\"\"\n",
    "    Calculate accuracy\n",
    "    \"\"\"\n",
    "    max_seq = max(target.shape[1], logits.shape[1])\n",
    "    if max_seq - target.shape[1]:\n",
    "        target = np.pad(\n",
    "            target,\n",
    "            [(0,0),(0,max_seq - target.shape[1])],\n",
    "            'constant')\n",
    "    if max_seq - logits.shape[1]:\n",
    "        logits = np.pad(\n",
    "            logits,\n",
    "            [(0,0),(0,max_seq - logits.shape[1])],\n",
    "            'constant')\n",
    "\n",
    "    return np.mean(np.equal(target, logits))\n",
    "\n",
    "# Split data to training and validation sets\n",
    "train_source = source_int_text[batch_size:]\n",
    "train_target = target_int_text[batch_size:]\n",
    "valid_source = source_int_text[:batch_size]\n",
    "valid_target = target_int_text[:batch_size]\n",
    "(valid_sources_batch, valid_targets_batch, valid_sources_lengths, valid_targets_lengths ) = next(get_batches(valid_source,\n",
    "                                                                                                             valid_target,\n",
    "                                                                                                             batch_size,\n",
    "                                                                                                             source_vocab_to_int['<PAD>'],\n",
    "                                                                                                             target_vocab_to_int['<PAD>']))                                                                                                  \n",
    "with tf.Session(graph=train_graph) as sess:\n",
    "    sess.run(tf.global_variables_initializer())\n",
    "\n",
    "    for epoch_i in range(epochs):\n",
    "        for batch_i, (source_batch, target_batch, sources_lengths, targets_lengths) in enumerate(\n",
    "                get_batches(train_source, train_target, batch_size,\n",
    "                            source_vocab_to_int['<PAD>'],\n",
    "                            target_vocab_to_int['<PAD>'])):\n",
    "\n",
    "            _, loss = sess.run(\n",
    "                [train_op, cost],\n",
    "                {input_data: source_batch,\n",
    "                 targets: target_batch,\n",
    "                 lr: learning_rate,\n",
    "                 target_sequence_length: targets_lengths,\n",
    "                 source_sequence_length: sources_lengths,\n",
    "                 keep_prob: keep_probability})\n",
    "\n",
    "\n",
    "            if batch_i % display_step == 0 and batch_i > 0:\n",
    "\n",
    "\n",
    "                batch_train_logits = sess.run(\n",
    "                    inference_logits,\n",
    "                    {input_data: source_batch,\n",
    "                     source_sequence_length: sources_lengths,\n",
    "                     target_sequence_length: targets_lengths,\n",
    "                     keep_prob: 1.0})\n",
    "\n",
    "\n",
    "                batch_valid_logits = sess.run(\n",
    "                    inference_logits,\n",
    "                    {input_data: valid_sources_batch,\n",
    "                     source_sequence_length: valid_sources_lengths,\n",
    "                     target_sequence_length: valid_targets_lengths,\n",
    "                     keep_prob: 1.0})\n",
    "\n",
    "                train_acc = get_accuracy(target_batch, batch_train_logits)\n",
    "\n",
    "                valid_acc = get_accuracy(valid_targets_batch, batch_valid_logits)\n",
    "\n",
    "                print('Epoch {:>3} Batch {:>4}/{} - Train Accuracy: {:>6.4f}, Validation Accuracy: {:>6.4f}, Loss: {:>6.4f}'\n",
    "                      .format(epoch_i, batch_i, len(source_int_text) // batch_size, train_acc, valid_acc, loss))\n",
    "\n",
    "    # Save Model\n",
    "    saver = tf.train.Saver()\n",
    "    saver.save(sess, save_path)\n",
    "    print('Model Trained and Saved')"
   ]
  },
  {
   "cell_type": "markdown",
   "metadata": {},
   "source": [
    "### Save Parameters\n",
    "Save the `batch_size` and `save_path` parameters for inference."
   ]
  },
  {
   "cell_type": "code",
   "execution_count": 22,
   "metadata": {
    "collapsed": true
   },
   "outputs": [],
   "source": [
    "\"\"\"\n",
    "DON'T MODIFY ANYTHING IN THIS CELL\n",
    "\"\"\"\n",
    "# Save parameters for checkpoint\n",
    "helper.save_params(save_path)"
   ]
  },
  {
   "cell_type": "markdown",
   "metadata": {},
   "source": [
    "# Checkpoint"
   ]
  },
  {
   "cell_type": "code",
   "execution_count": 23,
   "metadata": {
    "collapsed": true
   },
   "outputs": [],
   "source": [
    "\"\"\"\n",
    "DON'T MODIFY ANYTHING IN THIS CELL\n",
    "\"\"\"\n",
    "import tensorflow as tf\n",
    "import numpy as np\n",
    "import helper\n",
    "import problem_unittests as tests\n",
    "\n",
    "_, (source_vocab_to_int, target_vocab_to_int), (source_int_to_vocab, target_int_to_vocab) = helper.load_preprocess()\n",
    "load_path = helper.load_params()"
   ]
  },
  {
   "cell_type": "markdown",
   "metadata": {},
   "source": [
    "## Sentence to Sequence\n",
    "To feed a sentence into the model for translation, you first need to preprocess it.  Implement the function `sentence_to_seq()` to preprocess new sentences.\n",
    "\n",
    "- Convert the sentence to lowercase\n",
    "- Convert words into ids using `vocab_to_int`\n",
    " - Convert words not in the vocabulary, to the `<UNK>` word id."
   ]
  },
  {
   "cell_type": "code",
   "execution_count": 24,
   "metadata": {},
   "outputs": [
    {
     "ename": "TypeError",
     "evalue": "object of type 'NoneType' has no len()",
     "output_type": "error",
     "traceback": [
      "\u001b[0;31m---------------------------------------------------------------------------\u001b[0m",
      "\u001b[0;31mTypeError\u001b[0m                                 Traceback (most recent call last)",
      "\u001b[0;32m<ipython-input-24-59e5c41af972>\u001b[0m in \u001b[0;36m<module>\u001b[0;34m()\u001b[0m\n\u001b[1;32m     13\u001b[0m \u001b[0mDON\u001b[0m\u001b[0;31m'\u001b[0m\u001b[0mT\u001b[0m \u001b[0mMODIFY\u001b[0m \u001b[0mANYTHING\u001b[0m \u001b[0mIN\u001b[0m \u001b[0mTHIS\u001b[0m \u001b[0mCELL\u001b[0m \u001b[0mTHAT\u001b[0m \u001b[0mIS\u001b[0m \u001b[0mBELOW\u001b[0m \u001b[0mTHIS\u001b[0m \u001b[0mLINE\u001b[0m\u001b[0;34m\u001b[0m\u001b[0m\n\u001b[1;32m     14\u001b[0m \"\"\"\n\u001b[0;32m---> 15\u001b[0;31m \u001b[0mtests\u001b[0m\u001b[0;34m.\u001b[0m\u001b[0mtest_sentence_to_seq\u001b[0m\u001b[0;34m(\u001b[0m\u001b[0msentence_to_seq\u001b[0m\u001b[0;34m)\u001b[0m\u001b[0;34m\u001b[0m\u001b[0m\n\u001b[0m",
      "\u001b[0;32m~/deep-learning/language-translation/problem_unittests.py\u001b[0m in \u001b[0;36mtest_sentence_to_seq\u001b[0;34m(sentence_to_seq)\u001b[0m\n\u001b[1;32m    267\u001b[0m     \u001b[0moutput\u001b[0m \u001b[0;34m=\u001b[0m \u001b[0msentence_to_seq\u001b[0m\u001b[0;34m(\u001b[0m\u001b[0msentence\u001b[0m\u001b[0;34m,\u001b[0m \u001b[0mvocab_to_int\u001b[0m\u001b[0;34m)\u001b[0m\u001b[0;34m\u001b[0m\u001b[0m\n\u001b[1;32m    268\u001b[0m \u001b[0;34m\u001b[0m\u001b[0m\n\u001b[0;32m--> 269\u001b[0;31m     \u001b[0;32massert\u001b[0m \u001b[0mlen\u001b[0m\u001b[0;34m(\u001b[0m\u001b[0moutput\u001b[0m\u001b[0;34m)\u001b[0m \u001b[0;34m==\u001b[0m \u001b[0;36m5\u001b[0m\u001b[0;34m,\u001b[0m\u001b[0;31m\\\u001b[0m\u001b[0;34m\u001b[0m\u001b[0m\n\u001b[0m\u001b[1;32m    270\u001b[0m         \u001b[0;34m'Wrong length. Found a length of {}'\u001b[0m\u001b[0;34m.\u001b[0m\u001b[0mformat\u001b[0m\u001b[0;34m(\u001b[0m\u001b[0mlen\u001b[0m\u001b[0;34m(\u001b[0m\u001b[0moutput\u001b[0m\u001b[0;34m)\u001b[0m\u001b[0;34m)\u001b[0m\u001b[0;34m\u001b[0m\u001b[0m\n\u001b[1;32m    271\u001b[0m \u001b[0;34m\u001b[0m\u001b[0m\n",
      "\u001b[0;31mTypeError\u001b[0m: object of type 'NoneType' has no len()"
     ]
    }
   ],
   "source": [
    "def sentence_to_seq(sentence, vocab_to_int):\n",
    "    \"\"\"\n",
    "    Convert a sentence to a sequence of ids\n",
    "    :param sentence: String\n",
    "    :param vocab_to_int: Dictionary to go from the words to an id\n",
    "    :return: List of word ids\n",
    "    \"\"\"\n",
    "    # TODO: Implement Function\n",
    "    return None\n",
    "\n",
    "\n",
    "\"\"\"\n",
    "DON'T MODIFY ANYTHING IN THIS CELL THAT IS BELOW THIS LINE\n",
    "\"\"\"\n",
    "tests.test_sentence_to_seq(sentence_to_seq)"
   ]
  },
  {
   "cell_type": "markdown",
   "metadata": {},
   "source": [
    "## Translate\n",
    "This will translate `translate_sentence` from English to French."
   ]
  },
  {
   "cell_type": "code",
   "execution_count": null,
   "metadata": {
    "collapsed": true
   },
   "outputs": [],
   "source": [
    "translate_sentence = 'he saw a old yellow truck .'\n",
    "\n",
    "\n",
    "\"\"\"\n",
    "DON'T MODIFY ANYTHING IN THIS CELL\n",
    "\"\"\"\n",
    "translate_sentence = sentence_to_seq(translate_sentence, source_vocab_to_int)\n",
    "\n",
    "loaded_graph = tf.Graph()\n",
    "with tf.Session(graph=loaded_graph) as sess:\n",
    "    # Load saved model\n",
    "    loader = tf.train.import_meta_graph(load_path + '.meta')\n",
    "    loader.restore(sess, load_path)\n",
    "\n",
    "    input_data = loaded_graph.get_tensor_by_name('input:0')\n",
    "    logits = loaded_graph.get_tensor_by_name('predictions:0')\n",
    "    target_sequence_length = loaded_graph.get_tensor_by_name('target_sequence_length:0')\n",
    "    source_sequence_length = loaded_graph.get_tensor_by_name('source_sequence_length:0')\n",
    "    keep_prob = loaded_graph.get_tensor_by_name('keep_prob:0')\n",
    "\n",
    "    translate_logits = sess.run(logits, {input_data: [translate_sentence]*batch_size,\n",
    "                                         target_sequence_length: [len(translate_sentence)*2]*batch_size,\n",
    "                                         source_sequence_length: [len(translate_sentence)]*batch_size,\n",
    "                                         keep_prob: 1.0})[0]\n",
    "\n",
    "print('Input')\n",
    "print('  Word Ids:      {}'.format([i for i in translate_sentence]))\n",
    "print('  English Words: {}'.format([source_int_to_vocab[i] for i in translate_sentence]))\n",
    "\n",
    "print('\\nPrediction')\n",
    "print('  Word Ids:      {}'.format([i for i in translate_logits]))\n",
    "print('  French Words: {}'.format(\" \".join([target_int_to_vocab[i] for i in translate_logits])))\n"
   ]
  },
  {
   "cell_type": "markdown",
   "metadata": {},
   "source": [
    "## Imperfect Translation\n",
    "You might notice that some sentences translate better than others.  Since the dataset you're using only has a vocabulary of 227 English words of the thousands that you use, you're only going to see good results using these words.  For this project, you don't need a perfect translation. However, if you want to create a better translation model, you'll need better data.\n",
    "\n",
    "You can train on the [WMT10 French-English corpus](http://www.statmt.org/wmt10/training-giga-fren.tar).  This dataset has more vocabulary and richer in topics discussed.  However, this will take you days to train, so make sure you've a GPU and the neural network is performing well on dataset we provided.  Just make sure you play with the WMT10 corpus after you've submitted this project.\n",
    "## Submitting This Project\n",
    "When submitting this project, make sure to run all the cells before saving the notebook. Save the notebook file as \"dlnd_language_translation.ipynb\" and save it as a HTML file under \"File\" -> \"Download as\". Include the \"helper.py\" and \"problem_unittests.py\" files in your submission."
   ]
  }
 ],
 "metadata": {
  "anaconda-cloud": {},
  "kernelspec": {
   "display_name": "Python 3",
   "language": "python",
   "name": "python3"
  },
  "language_info": {
   "codemirror_mode": {
    "name": "ipython",
    "version": 3
   },
   "file_extension": ".py",
   "mimetype": "text/x-python",
   "name": "python",
   "nbconvert_exporter": "python",
   "pygments_lexer": "ipython3",
   "version": "3.5.4"
  }
 },
 "nbformat": 4,
 "nbformat_minor": 1
}
